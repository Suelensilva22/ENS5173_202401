{
 "cells": [
  {
   "cell_type": "markdown",
   "id": "afc41855-e904-4929-8c56-965ec20facc5",
   "metadata": {},
   "source": [
    "# Atividade 02\n",
    "Utilizar dados de Florianópolis, pegar os dados da estação meteorológica e de sondagem mais próximos.\n",
    "\n",
    "Parte 3) \n",
    "A tabela do EZ-AERMOD para cada quadrante: https://hoinaski.prof.ufsc.br/BRAIN/getUPPERAIR\n",
    "* 4 primeiras - rugosidade\n",
    "* 4 seguintes - albedo\n",
    "* 4 últimas - razão de bowen"
   ]
  },
  {
   "cell_type": "code",
   "execution_count": null,
   "id": "6a55a388-fe3d-48ec-aa40-f9884fdb9e3b",
   "metadata": {},
   "outputs": [],
   "source": []
  }
 ],
 "metadata": {
  "kernelspec": {
   "display_name": "Python 3 (ipykernel)",
   "language": "python",
   "name": "python3"
  },
  "language_info": {
   "codemirror_mode": {
    "name": "ipython",
    "version": 3
   },
   "file_extension": ".py",
   "mimetype": "text/x-python",
   "name": "python",
   "nbconvert_exporter": "python",
   "pygments_lexer": "ipython3",
   "version": "3.11.8"
  }
 },
 "nbformat": 4,
 "nbformat_minor": 5
}
