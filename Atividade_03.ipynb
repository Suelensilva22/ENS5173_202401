{
 "cells": [
  {
   "cell_type": "markdown",
   "id": "d20b47b1-2e59-41ae-99fc-d15ebfee999a",
   "metadata": {},
   "source": [
    "# Atividade 3"
   ]
  },
  {
   "cell_type": "code",
   "execution_count": 3,
   "id": "855155d1-a354-4f4c-add4-37a2c5ed8c1b",
   "metadata": {},
   "outputs": [],
   "source": [
    "import pandas as pd\n",
    "from datetime import datetime\n",
    "from siphon.simplewebservice.wyoming import WyomingUpperAir\n",
    "import numpy as np"
   ]
  },
  {
   "cell_type": "code",
   "execution_count": 6,
   "id": "1d9e9442-6c5f-4a63-b5e8-35e068b59589",
   "metadata": {},
   "outputs": [
    {
     "data": {
      "text/html": [
       "<div>\n",
       "<style scoped>\n",
       "    .dataframe tbody tr th:only-of-type {\n",
       "        vertical-align: middle;\n",
       "    }\n",
       "\n",
       "    .dataframe tbody tr th {\n",
       "        vertical-align: top;\n",
       "    }\n",
       "\n",
       "    .dataframe thead th {\n",
       "        text-align: right;\n",
       "    }\n",
       "</style>\n",
       "<table border=\"1\" class=\"dataframe\">\n",
       "  <thead>\n",
       "    <tr style=\"text-align: right;\">\n",
       "      <th></th>\n",
       "      <th>pressure</th>\n",
       "      <th>height</th>\n",
       "      <th>temperature</th>\n",
       "      <th>dewpoint</th>\n",
       "      <th>direction</th>\n",
       "      <th>speed</th>\n",
       "      <th>u_wind</th>\n",
       "      <th>v_wind</th>\n",
       "      <th>station</th>\n",
       "      <th>station_number</th>\n",
       "      <th>time</th>\n",
       "      <th>latitude</th>\n",
       "      <th>longitude</th>\n",
       "      <th>elevation</th>\n",
       "      <th>pw</th>\n",
       "    </tr>\n",
       "  </thead>\n",
       "  <tbody>\n",
       "    <tr>\n",
       "      <th>0</th>\n",
       "      <td>1021.0</td>\n",
       "      <td>5</td>\n",
       "      <td>17.6</td>\n",
       "      <td>13.9</td>\n",
       "      <td>0.0</td>\n",
       "      <td>0.0</td>\n",
       "      <td>-0.000000</td>\n",
       "      <td>-0.000000</td>\n",
       "      <td>SBFL</td>\n",
       "      <td>83899</td>\n",
       "      <td>2023-07-05 12:00:00</td>\n",
       "      <td>-27.67</td>\n",
       "      <td>-48.55</td>\n",
       "      <td>5.0</td>\n",
       "      <td>15.83</td>\n",
       "    </tr>\n",
       "    <tr>\n",
       "      <th>1</th>\n",
       "      <td>1000.0</td>\n",
       "      <td>182</td>\n",
       "      <td>16.4</td>\n",
       "      <td>12.0</td>\n",
       "      <td>345.0</td>\n",
       "      <td>14.0</td>\n",
       "      <td>3.623467</td>\n",
       "      <td>-13.522962</td>\n",
       "      <td>SBFL</td>\n",
       "      <td>83899</td>\n",
       "      <td>2023-07-05 12:00:00</td>\n",
       "      <td>-27.67</td>\n",
       "      <td>-48.55</td>\n",
       "      <td>5.0</td>\n",
       "      <td>15.83</td>\n",
       "    </tr>\n",
       "    <tr>\n",
       "      <th>2</th>\n",
       "      <td>957.0</td>\n",
       "      <td>555</td>\n",
       "      <td>13.8</td>\n",
       "      <td>9.9</td>\n",
       "      <td>319.0</td>\n",
       "      <td>17.0</td>\n",
       "      <td>11.153003</td>\n",
       "      <td>-12.830063</td>\n",
       "      <td>SBFL</td>\n",
       "      <td>83899</td>\n",
       "      <td>2023-07-05 12:00:00</td>\n",
       "      <td>-27.67</td>\n",
       "      <td>-48.55</td>\n",
       "      <td>5.0</td>\n",
       "      <td>15.83</td>\n",
       "    </tr>\n",
       "    <tr>\n",
       "      <th>3</th>\n",
       "      <td>950.8</td>\n",
       "      <td>610</td>\n",
       "      <td>13.9</td>\n",
       "      <td>9.4</td>\n",
       "      <td>315.0</td>\n",
       "      <td>17.0</td>\n",
       "      <td>12.020815</td>\n",
       "      <td>-12.020815</td>\n",
       "      <td>SBFL</td>\n",
       "      <td>83899</td>\n",
       "      <td>2023-07-05 12:00:00</td>\n",
       "      <td>-27.67</td>\n",
       "      <td>-48.55</td>\n",
       "      <td>5.0</td>\n",
       "      <td>15.83</td>\n",
       "    </tr>\n",
       "    <tr>\n",
       "      <th>4</th>\n",
       "      <td>925.0</td>\n",
       "      <td>842</td>\n",
       "      <td>14.2</td>\n",
       "      <td>7.2</td>\n",
       "      <td>330.0</td>\n",
       "      <td>25.0</td>\n",
       "      <td>12.500000</td>\n",
       "      <td>-21.650635</td>\n",
       "      <td>SBFL</td>\n",
       "      <td>83899</td>\n",
       "      <td>2023-07-05 12:00:00</td>\n",
       "      <td>-27.67</td>\n",
       "      <td>-48.55</td>\n",
       "      <td>5.0</td>\n",
       "      <td>15.83</td>\n",
       "    </tr>\n",
       "  </tbody>\n",
       "</table>\n",
       "</div>"
      ],
      "text/plain": [
       "   pressure  height  temperature  dewpoint  direction  speed     u_wind  \\\n",
       "0    1021.0       5         17.6      13.9        0.0    0.0  -0.000000   \n",
       "1    1000.0     182         16.4      12.0      345.0   14.0   3.623467   \n",
       "2     957.0     555         13.8       9.9      319.0   17.0  11.153003   \n",
       "3     950.8     610         13.9       9.4      315.0   17.0  12.020815   \n",
       "4     925.0     842         14.2       7.2      330.0   25.0  12.500000   \n",
       "\n",
       "      v_wind station  station_number                time  latitude  longitude  \\\n",
       "0  -0.000000    SBFL           83899 2023-07-05 12:00:00    -27.67     -48.55   \n",
       "1 -13.522962    SBFL           83899 2023-07-05 12:00:00    -27.67     -48.55   \n",
       "2 -12.830063    SBFL           83899 2023-07-05 12:00:00    -27.67     -48.55   \n",
       "3 -12.020815    SBFL           83899 2023-07-05 12:00:00    -27.67     -48.55   \n",
       "4 -21.650635    SBFL           83899 2023-07-05 12:00:00    -27.67     -48.55   \n",
       "\n",
       "   elevation     pw  \n",
       "0        5.0  15.83  \n",
       "1        5.0  15.83  \n",
       "2        5.0  15.83  \n",
       "3        5.0  15.83  \n",
       "4        5.0  15.83  "
      ]
     },
     "execution_count": 6,
     "metadata": {},
     "output_type": "execute_result"
    }
   ],
   "source": [
    "# Data para análise\n",
    "date = datetime(2023, 7, 5, 12)\n",
    "# local da análise\n",
    "station = 'SBFL'\n",
    "# Extraindo os dados\n",
    "df = WyomingUpperAir.request_data(date, station) \n",
    "df.head() "
   ]
  },
  {
   "cell_type": "markdown",
   "id": "f67fd048-caff-45f4-a714-0c6dcac2d81a",
   "metadata": {},
   "source": [
    "## Função para determinar a classe de estabilidade de Pasquill"
   ]
  },
  {
   "cell_type": "code",
   "execution_count": 8,
   "id": "42cad0ac-1bf7-468a-bf1d-4e07a0864384",
   "metadata": {},
   "outputs": [
    {
     "data": {
      "text/html": [
       "<div>\n",
       "<style scoped>\n",
       "    .dataframe tbody tr th:only-of-type {\n",
       "        vertical-align: middle;\n",
       "    }\n",
       "\n",
       "    .dataframe tbody tr th {\n",
       "        vertical-align: top;\n",
       "    }\n",
       "\n",
       "    .dataframe thead th {\n",
       "        text-align: right;\n",
       "    }\n",
       "</style>\n",
       "<table border=\"1\" class=\"dataframe\">\n",
       "  <thead>\n",
       "    <tr style=\"text-align: right;\">\n",
       "      <th></th>\n",
       "      <th>Pasquill stability class</th>\n",
       "      <th>dT/dZ</th>\n",
       "    </tr>\n",
       "  </thead>\n",
       "  <tbody>\n",
       "    <tr>\n",
       "      <th>0</th>\n",
       "      <td>A</td>\n",
       "      <td>dT/dZ &lt; - 1.9</td>\n",
       "    </tr>\n",
       "    <tr>\n",
       "      <th>1</th>\n",
       "      <td>B</td>\n",
       "      <td>-1.9 ≤ dT/dZ &lt; -1.7</td>\n",
       "    </tr>\n",
       "    <tr>\n",
       "      <th>2</th>\n",
       "      <td>C</td>\n",
       "      <td>-1.7 ≤ dT/dZ &lt; -1.5</td>\n",
       "    </tr>\n",
       "    <tr>\n",
       "      <th>3</th>\n",
       "      <td>D</td>\n",
       "      <td>-1.5 ≤ dT/dZ &lt; -0.5</td>\n",
       "    </tr>\n",
       "    <tr>\n",
       "      <th>4</th>\n",
       "      <td>E</td>\n",
       "      <td>-0.5 ≤ dT/dZ &lt; 1.5</td>\n",
       "    </tr>\n",
       "    <tr>\n",
       "      <th>5</th>\n",
       "      <td>F</td>\n",
       "      <td>dT/dZ ≥ 1.5</td>\n",
       "    </tr>\n",
       "  </tbody>\n",
       "</table>\n",
       "</div>"
      ],
      "text/plain": [
       "  Pasquill stability class                dT/dZ\n",
       "0                        A        dT/dZ < - 1.9\n",
       "1                        B  -1.9 ≤ dT/dZ < -1.7\n",
       "2                        C  -1.7 ≤ dT/dZ < -1.5\n",
       "3                        D  -1.5 ≤ dT/dZ < -0.5\n",
       "4                        E   -0.5 ≤ dT/dZ < 1.5\n",
       "5                        F          dT/dZ ≥ 1.5"
      ]
     },
     "execution_count": 8,
     "metadata": {},
     "output_type": "execute_result"
    }
   ],
   "source": [
    "classificacao = pd.read_excel(r'C:\\Users\\vinicius\\Documents\\ENS5173_202401\\inputs\\Classes_Pasquill.xlsx')\n",
    "classificacao"
   ]
  },
  {
   "cell_type": "code",
   "execution_count": 9,
   "id": "0f2892b7-3b49-45a1-af26-af4ddf00962f",
   "metadata": {},
   "outputs": [
    {
     "data": {
      "text/html": [
       "<div>\n",
       "<style scoped>\n",
       "    .dataframe tbody tr th:only-of-type {\n",
       "        vertical-align: middle;\n",
       "    }\n",
       "\n",
       "    .dataframe tbody tr th {\n",
       "        vertical-align: top;\n",
       "    }\n",
       "\n",
       "    .dataframe thead th {\n",
       "        text-align: right;\n",
       "    }\n",
       "</style>\n",
       "<table border=\"1\" class=\"dataframe\">\n",
       "  <thead>\n",
       "    <tr style=\"text-align: right;\">\n",
       "      <th></th>\n",
       "      <th>dTdZ</th>\n",
       "      <th>Classe de Pasquill</th>\n",
       "    </tr>\n",
       "  </thead>\n",
       "  <tbody>\n",
       "    <tr>\n",
       "      <th>0</th>\n",
       "      <td>-0.677966</td>\n",
       "      <td>D</td>\n",
       "    </tr>\n",
       "  </tbody>\n",
       "</table>\n",
       "</div>"
      ],
      "text/plain": [
       "       dTdZ Classe de Pasquill\n",
       "0 -0.677966                  D"
      ]
     },
     "execution_count": 9,
     "metadata": {},
     "output_type": "execute_result"
    }
   ],
   "source": [
    "def pasquill(temp, alt, i): \n",
    "    deltaT = np.diff(temp)\n",
    "    deltaZ = np.diff(alt)\n",
    "    dTdZ = (deltaT/deltaZ)*100 # Gradiente de temperatura; a cada 100 m  \n",
    "    if dTdZ[i] < -1.9:\n",
    "        classe = 'A'\n",
    "    if -1.9 <= dTdZ[i] < -1.7:\n",
    "        classe = 'B'\n",
    "    if -1.7 <= dTdZ[i] < -1.5:\n",
    "        classe = 'C'\n",
    "    if -1.5 <= dTdZ[i] < -0.5:\n",
    "        classe = 'D'\n",
    "    if -0.5 <= dTdZ[i] < 1.5:\n",
    "        classe = 'E'\n",
    "    if dTdZ[i] >= 1.5:\n",
    "        classe = 'F'\n",
    "    return {'dTdZ': [dTdZ[i]], 'Classe de Pasquill': [classe]}\n",
    "\n",
    "estabilidade = pd.DataFrame(data=pasquill(df['temperature'], df['height'], 0)) \n",
    "estabilidade "
   ]
  },
  {
   "cell_type": "markdown",
   "id": "e7edb46b-9abc-4c37-8249-4fc5d8afcc59",
   "metadata": {},
   "source": [
    "## Função de estimativa de coefiente de dispersão (sigmaYZ) para todas as classes de estabilidade"
   ]
  },
  {
   "cell_type": "code",
   "execution_count": null,
   "id": "b498cb2c-df03-4b83-b97f-8d329c5a62ae",
   "metadata": {},
   "outputs": [],
   "source": [
    "u =np.rand\n",
    "cn=\n",
    "rad = "
   ]
  },
  {
   "cell_type": "code",
   "execution_count": 10,
   "id": "954084b0-3d90-4b4b-b6ca-b2fa718d681c",
   "metadata": {},
   "outputs": [
    {
     "data": {
      "text/html": [
       "<div>\n",
       "<style scoped>\n",
       "    .dataframe tbody tr th:only-of-type {\n",
       "        vertical-align: middle;\n",
       "    }\n",
       "\n",
       "    .dataframe tbody tr th {\n",
       "        vertical-align: top;\n",
       "    }\n",
       "\n",
       "    .dataframe thead th {\n",
       "        text-align: right;\n",
       "    }\n",
       "</style>\n",
       "<table border=\"1\" class=\"dataframe\">\n",
       "  <thead>\n",
       "    <tr style=\"text-align: right;\">\n",
       "      <th></th>\n",
       "      <th>Sigma Y</th>\n",
       "      <th>Sigma Z</th>\n",
       "    </tr>\n",
       "  </thead>\n",
       "  <tbody>\n",
       "    <tr>\n",
       "      <th>0</th>\n",
       "      <td>15.689291</td>\n",
       "      <td>13.79461</td>\n",
       "    </tr>\n",
       "  </tbody>\n",
       "</table>\n",
       "</div>"
      ],
      "text/plain": [
       "     Sigma Y   Sigma Z\n",
       "0  15.689291  13.79461"
      ]
     },
     "execution_count": 10,
     "metadata": {},
     "output_type": "execute_result"
    }
   ],
   "source": [
    "# Função para estimar as dispersões lateral e vertical da pluma \n",
    "def sigmasYZ(UR, classe, x):\n",
    "    if (classe=='A' or classe=='B') and UR=='urbano':\n",
    "        sigmaY = 0.32*x*((1+0.0004*x)**(-0.5)) \n",
    "        sigmaZ = 0.24*x*((1+0.001*x)**(0.5)) \n",
    "    if classe=='C' and UR=='urbano':\n",
    "        sigmaY = 0.22*x*((1+0.0004*x)**(-0.5)) \n",
    "        sigmaZ = 0.20*x \n",
    "    if classe=='D' and UR=='urbano':\n",
    "        sigmaY = 0.16*x*((1+0.0004*x)**(-0.5)) \n",
    "        sigmaZ = 0.14*x*((1+0.0003*x)**(-0.5))\n",
    "    if (classe=='E' or classe=='F') and UR=='urbano':\n",
    "        sigmaY = 0.11*x*((1+0.0004*x)**(-0.5)) \n",
    "        sigmaZ = 0.08*x*((1+0.0015*x)**(-0.5)) \n",
    "    if classe=='A' and UR=='rural':\n",
    "        sigmaY = 0.22*x*((1+0.0001*x)**(-0.5)) \n",
    "        sigmaZ = 0.20*x \n",
    "    if classe=='B' and UR=='rural':\n",
    "        sigmaY = 0.16*x*((1+0.0001*x)**(-0.5))\n",
    "        sigmaZ = 0.12*x      \n",
    "    if classe=='C' and UR=='rural':\n",
    "        sigmaY = 0.11*x*((1+0.0001*x)**(-0.5))\n",
    "        sigmaZ = 0.08*x*((1+0.0002*x)**(-0.5))           \n",
    "    if classe=='D' and UR=='rural':\n",
    "        sigmaY = 0.08*x*((1+0.0001*x)**(-0.5))\n",
    "        sigmaZ = 0.06*x*((1+0.0015*x)**(-0.5))      \n",
    "    if classe=='E' and UR=='rural':\n",
    "        sigmaY = 0.06*x*((1+0.0001*x)**(-0.5))\n",
    "        sigmaZ = 0.03*x*((1+0.0003*x)**(-1))\n",
    "    if classe=='F' and UR=='rural':\n",
    "        sigmaY = 0.04*x*((1+0.0001*x)**(-0.5))\n",
    "        sigmaZ = 0.016*x*((1+0.0003*x)**(-1))\n",
    "    return {'Sigma Y': [sigmaY], 'Sigma Z': [sigmaZ]}\n",
    "\n",
    "sigmas = pd.DataFrame(data=sigmasYZ('urbano', 'D', 100)) \n",
    "sigmas"
   ]
  },
  {
   "cell_type": "markdown",
   "id": "ddb009bb-ab60-4168-b100-04694ffc2897",
   "metadata": {},
   "source": [
    "## Função de estimativa de sobrelevação da pluma\n",
    "Métodos de Davidson-Bryant e de Holland. Deve ser considerado o efeito Tip-Downwash."
   ]
  },
  {
   "cell_type": "code",
   "execution_count": 11,
   "id": "2cf7adbf-b20b-44f0-b535-067dfbe58090",
   "metadata": {},
   "outputs": [],
   "source": [
    "# Vs, u & Ts"
   ]
  },
  {
   "cell_type": "markdown",
   "id": "facf403b-9956-49fc-b46a-2c76b9985874",
   "metadata": {},
   "source": [
    "## Função do modelo gaussiano"
   ]
  },
  {
   "cell_type": "code",
   "execution_count": 12,
   "id": "57ef1543-d51e-4ada-b3ca-e317a2c470d0",
   "metadata": {},
   "outputs": [],
   "source": [
    "def modeloGaussiano(qs,sigmaY,sigmaZ,u,y,z,H):\n",
    "    termo1 = qs/(2*np.pi*sigmaY*sigmaZ*u)\n",
    "    termo2 = np.exp((-y**2)/(2*sigmaY**2))\n",
    "    termo3 = np.exp((-(z-H)**2)/(2*sigmaZ**2)) + np.exp((-(z+H)**2)/(2*sigmaZ**2))\n",
    "    conc = termo1*termo2*termo3\n",
    "    conc = conc*10**6\n",
    "    return conc # micro g/m3"
   ]
  },
  {
   "cell_type": "markdown",
   "id": "08576d3a-082e-48f3-8986-ffb53d92e9b0",
   "metadata": {},
   "source": [
    "## Simulações com o script\n",
    "(Utilizando diferentes classes de estabilidade, velocidades do vento, alturas de chaminé. Considere a taxa de emissão que você estimou na primeira atividade. Encontre a altura de chaminé necessária para que as concentrações não violem os padrões da Resolução CONAMA 491)."
   ]
  },
  {
   "cell_type": "markdown",
   "id": "cb7498d4-0884-4caf-8e82-9f8c34b53c0b",
   "metadata": {},
   "source": [
    "## Figuras e discussão dos resultados"
   ]
  },
  {
   "cell_type": "code",
   "execution_count": null,
   "id": "d31054e9-5ea1-4ea5-a007-c6092f3e6e5d",
   "metadata": {},
   "outputs": [],
   "source": []
  }
 ],
 "metadata": {
  "kernelspec": {
   "display_name": "Python 3 (ipykernel)",
   "language": "python",
   "name": "python3"
  },
  "language_info": {
   "codemirror_mode": {
    "name": "ipython",
    "version": 3
   },
   "file_extension": ".py",
   "mimetype": "text/x-python",
   "name": "python",
   "nbconvert_exporter": "python",
   "pygments_lexer": "ipython3",
   "version": "3.11.8"
  }
 },
 "nbformat": 4,
 "nbformat_minor": 5
}
