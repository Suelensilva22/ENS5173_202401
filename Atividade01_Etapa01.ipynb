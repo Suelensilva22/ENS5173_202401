{
 "cells": [
  {
   "cell_type": "markdown",
   "id": "aa46255b-2287-4717-8c80-1a8694d9e389",
   "metadata": {},
   "source": [
    "# Aula 02 - Python"
   ]
  },
  {
   "cell_type": "markdown",
   "id": "16b7540c-f17d-4cdc-afa9-9200e5e229d8",
   "metadata": {},
   "source": [
    "## Dados numéricos"
   ]
  },
  {
   "cell_type": "code",
   "execution_count": 23,
   "id": "e513853e-41c5-4b76-99c9-48b98284361e",
   "metadata": {},
   "outputs": [
    {
     "name": "stdout",
     "output_type": "stream",
     "text": [
      "Valor de a = 1\n"
     ]
    },
    {
     "data": {
      "text/plain": [
       "int"
      ]
     },
     "execution_count": 23,
     "metadata": {},
     "output_type": "execute_result"
    }
   ],
   "source": [
    "# Variável inteira - a # é utilizada para fazer comentários sem afetar o código\n",
    "a = 1 #definindo o valor de a\n",
    "print('Valor de a = '+str(a)) #print serve para mostrar, entre os ' ' está o que deve mostrar escrito (não comando) e o +str(a) que é para escrever o valor de a\n",
    "type(a) #serve para escrever o tipo de varável que é \"a\""
   ]
  },
  {
   "cell_type": "code",
   "execution_count": 6,
   "id": "11bc6e30-9407-4bb0-8b24-64d4733b96ef",
   "metadata": {},
   "outputs": [
    {
     "name": "stdout",
     "output_type": "stream",
     "text": [
      "1.0\n"
     ]
    },
    {
     "data": {
      "text/plain": [
       "float"
      ]
     },
     "execution_count": 6,
     "metadata": {},
     "output_type": "execute_result"
    }
   ],
   "source": [
    "# Variável dupla precisão\n",
    "b = 1.0 #definindo a variável b\n",
    "print(b) #escrever o valor da variável b\n",
    "type(b) #serve para escrever o tipo de varável que é \"b\""
   ]
  },
  {
   "cell_type": "code",
   "execution_count": 7,
   "id": "1bcd008c-c696-4d96-9464-e00564cc1bf0",
   "metadata": {},
   "outputs": [
    {
     "name": "stdout",
     "output_type": "stream",
     "text": [
      "1\n"
     ]
    },
    {
     "data": {
      "text/plain": [
       "int"
      ]
     },
     "execution_count": 7,
     "metadata": {},
     "output_type": "execute_result"
    }
   ],
   "source": [
    "# Converter float para int\n",
    "c = int(b) #transformar b que era uma variável de dupla precisão em um número inteiro\n",
    "print(c) #escrever o valor da variável c\n",
    "type(c) #serve para escrever o tipo de varável que é \"c\""
   ]
  },
  {
   "cell_type": "code",
   "execution_count": 9,
   "id": "8567fd5d-446d-4481-9312-33ad7ea376c1",
   "metadata": {},
   "outputs": [
    {
     "name": "stdout",
     "output_type": "stream",
     "text": [
      "nan\n"
     ]
    },
    {
     "data": {
      "text/plain": [
       "float"
      ]
     },
     "execution_count": 9,
     "metadata": {},
     "output_type": "execute_result"
    }
   ],
   "source": [
    "# Delacrando nan\n",
    "import numpy as np #importando a biblioteca NumPy com o nome np\n",
    "d = np.nan #definindo a variável d como nan, um valor especial utilizado para representar a falta de um valor numérico\n",
    "print(d) #escrever a variável d\n",
    "type(d) #serve para escrever o tipo de varável que é \"d\""
   ]
  },
  {
   "cell_type": "code",
   "execution_count": 10,
   "id": "b2e94645-9543-4797-ae77-8a7e8a38f938",
   "metadata": {},
   "outputs": [
    {
     "name": "stdout",
     "output_type": "stream",
     "text": [
      "nan\n",
      "nan\n",
      "1.0\n"
     ]
    }
   ],
   "source": [
    "# Operação com NaN\n",
    "e = d*1 #multiplicando nan com 1\n",
    "print(e) #escrever a variável e\n",
    "e = d+1 #somando nan com 1\n",
    "print(e) #escrever a variável e\n",
    "e = np.nansum([d,1]) #somando os valores contidos na lista [d, 1], ignorando qualquer valor NaN na operação de soma\n",
    "print(e) #escrever a variável e"
   ]
  },
  {
   "cell_type": "markdown",
   "id": "14412b14-15b0-4ad8-b551-f963c7fe80fb",
   "metadata": {},
   "source": [
    "## Dados numéricos"
   ]
  },
  {
   "cell_type": "code",
   "execution_count": 16,
   "id": "6f7f6d4d-5057-4223-8d55-be397babd8a3",
   "metadata": {},
   "outputs": [
    {
     "name": "stdout",
     "output_type": "stream",
     "text": [
      "Fábio\n",
      "<class 'str'>\n",
      "Gabriel\n",
      "<class 'str'>\n",
      "FábioGabriel\n",
      "Fábio Gabriel\n"
     ]
    }
   ],
   "source": [
    "# Declaração de variável texto\n",
    "f = 'Fábio' #definindo a variável f como texto (str) com o uso de ''\n",
    "g = \"Gabriel\" #definindo a variável g como texto (str) com o uso de \"\", mostrando que funciona das duas formas de aspas\n",
    "print(f) #escrever a variável f\n",
    "print(type(f)) #serve para escrever o tipo de varável que é \"f\" (conferindo se foi definido como texto)\n",
    "print(g) #escrever a variável g\n",
    "print(type(g)) #serve para escrever o tipo de varável que é \"g\" (conferindo se foi definido como texto)\n",
    "print(f+g) #escrever as variáveis f e g\n",
    "print(f+' '+g) #se queremos que mostre f e g escrito separado temos que usar ' ' ou \" \""
   ]
  },
  {
   "cell_type": "markdown",
   "id": "0a071ed8-f8fc-46fd-a078-800b57e2b7b1",
   "metadata": {},
   "source": [
    "## Dados tipo bool - lógica"
   ]
  },
  {
   "cell_type": "code",
   "execution_count": 14,
   "id": "75bf7e88-240d-426c-a97d-77903d802604",
   "metadata": {},
   "outputs": [
    {
     "data": {
      "text/plain": [
       "True"
      ]
     },
     "execution_count": 14,
     "metadata": {},
     "output_type": "execute_result"
    }
   ],
   "source": [
    "a == 1 #verifica se o valor de \"a\" é igual a 1"
   ]
  },
  {
   "cell_type": "code",
   "execution_count": 19,
   "id": "05dcea53-b8dd-4e64-84f4-2702e38c7c2d",
   "metadata": {},
   "outputs": [
    {
     "name": "stdout",
     "output_type": "stream",
     "text": [
      "True\n"
     ]
    },
    {
     "data": {
      "text/plain": [
       "bool"
      ]
     },
     "execution_count": 19,
     "metadata": {},
     "output_type": "execute_result"
    }
   ],
   "source": [
    "h = (a==1) #definindo h como a verificação (se o valor de \"a\" é igual a 1)\n",
    "print(h) #escrever a variável h\n",
    "type(h) #serve para escrever o tipo de varável que é \"h\""
   ]
  },
  {
   "cell_type": "code",
   "execution_count": 20,
   "id": "4b3e8080-f422-4c16-849a-c15a0fef8208",
   "metadata": {},
   "outputs": [
    {
     "name": "stdout",
     "output_type": "stream",
     "text": [
      "False\n"
     ]
    },
    {
     "data": {
      "text/plain": [
       "bool"
      ]
     },
     "execution_count": 20,
     "metadata": {},
     "output_type": "execute_result"
    }
   ],
   "source": [
    "h = (a==2) #definindo h como a verificação (se o valor de \"a\" é igual a 2)\n",
    "print(h) #escrever a variável h\n",
    "type(h) #serve para escrever o tipo de varável que é \"h\""
   ]
  },
  {
   "cell_type": "code",
   "execution_count": 21,
   "id": "7087536f-baf7-4274-8e5c-d553b992bb24",
   "metadata": {},
   "outputs": [
    {
     "data": {
      "text/plain": [
       "bool"
      ]
     },
     "execution_count": 21,
     "metadata": {},
     "output_type": "execute_result"
    }
   ],
   "source": [
    "i = True #está atribuindo o valor booleano verdadeiro (True) à variável i\n",
    "type(i) #serve para escrever o tipo de varável que é \"i\""
   ]
  },
  {
   "cell_type": "code",
   "execution_count": 22,
   "id": "11b6e96e-80b7-4bd3-97df-295a950b6094",
   "metadata": {},
   "outputs": [
    {
     "data": {
      "text/plain": [
       "str"
      ]
     },
     "execution_count": 22,
     "metadata": {},
     "output_type": "execute_result"
    }
   ],
   "source": [
    "ii = 'True' #está atribuindo à variável f o texto \"True\", quando usamos '' entende-se que a variável é texto\n",
    "type(ii) #serve para escrever o tipo de varável que é \"ii\""
   ]
  },
  {
   "cell_type": "markdown",
   "id": "fda7e7a2-abae-45a2-ba92-d30fe131dc83",
   "metadata": {},
   "source": [
    "## Operação de comparação"
   ]
  },
  {
   "cell_type": "code",
   "execution_count": 24,
   "id": "0cf04677-b6d0-4ef4-af71-05a52573dbc9",
   "metadata": {},
   "outputs": [
    {
     "data": {
      "text/plain": [
       "True"
      ]
     },
     "execution_count": 24,
     "metadata": {},
     "output_type": "execute_result"
    }
   ],
   "source": [
    "# Operação ==\n",
    "a==b #comparando se a variável \"a\" é igual a variável \"b\" definidas anteriormente"
   ]
  },
  {
   "cell_type": "code",
   "execution_count": 30,
   "id": "e7b84236-49ba-4906-814d-50219f172f65",
   "metadata": {},
   "outputs": [
    {
     "data": {
      "text/plain": [
       "False"
      ]
     },
     "execution_count": 30,
     "metadata": {},
     "output_type": "execute_result"
    }
   ],
   "source": [
    "# Operação ><\n",
    "a>b #comparando se a variável \"a\" é maior que a variável \"b\""
   ]
  },
  {
   "cell_type": "code",
   "execution_count": 31,
   "id": "f4050832-e39f-4c52-8bb4-c4ee46d91a70",
   "metadata": {},
   "outputs": [
    {
     "data": {
      "text/plain": [
       "False"
      ]
     },
     "execution_count": 31,
     "metadata": {},
     "output_type": "execute_result"
    }
   ],
   "source": [
    "# Operação ><\n",
    "a<b #comparando se a variável \"a\" é menor que a variável \"b\""
   ]
  },
  {
   "cell_type": "code",
   "execution_count": 32,
   "id": "f660937c-f8b7-4dd0-921d-07e045e2c99a",
   "metadata": {},
   "outputs": [
    {
     "data": {
      "text/plain": [
       "False"
      ]
     },
     "execution_count": 32,
     "metadata": {},
     "output_type": "execute_result"
    }
   ],
   "source": [
    "# Operação !=\n",
    "a!=b #comparando se a variável \"a\" é diferente da variável \"b\""
   ]
  },
  {
   "cell_type": "code",
   "execution_count": 33,
   "id": "c4b6207c-2c6c-4366-a70b-730847b014cd",
   "metadata": {},
   "outputs": [
    {
     "data": {
      "text/plain": [
       "True"
      ]
     },
     "execution_count": 33,
     "metadata": {},
     "output_type": "execute_result"
    }
   ],
   "source": [
    "# Operação >= ou <=\n",
    "a>=b #comparando se a variável \"a\" é maior ou igual a variável \"b\""
   ]
  },
  {
   "cell_type": "markdown",
   "id": "aee0e088-7613-458b-b480-f4ddcda04cfc",
   "metadata": {},
   "source": [
    "## Operações matemáticas"
   ]
  },
  {
   "cell_type": "code",
   "execution_count": 34,
   "id": "3e2ac8b7-7d8b-4e2e-be33-4b93d657d7d8",
   "metadata": {},
   "outputs": [
    {
     "data": {
      "text/plain": [
       "2.0"
      ]
     },
     "execution_count": 34,
     "metadata": {},
     "output_type": "execute_result"
    }
   ],
   "source": [
    "# Soma \n",
    "a+b #somando o valor da variável \"a\" com o valor da variável \"b\""
   ]
  },
  {
   "cell_type": "code",
   "execution_count": 35,
   "id": "fb91cb0a-4a8a-4db0-80fc-417fb738d04a",
   "metadata": {},
   "outputs": [
    {
     "name": "stdout",
     "output_type": "stream",
     "text": [
      "2.0\n"
     ]
    }
   ],
   "source": [
    "# Soma e atribui valor\n",
    "ab = a+b #atribuindo o valor da soma à variável \"ab\"\n",
    "print(ab) #escrever a variável ab"
   ]
  },
  {
   "cell_type": "code",
   "execution_count": 37,
   "id": "5a9b0484-df22-4df6-bc4c-6715d4ea5aff",
   "metadata": {},
   "outputs": [
    {
     "name": "stdout",
     "output_type": "stream",
     "text": [
      "Não use l como nome de variável\n",
      "1.0\n"
     ]
    }
   ],
   "source": [
    "# Multiplicação\n",
    "l = a*b # Não use  como variável \n",
    "print(\"Não use l como nome de variável\") #evitar usar a letra \"l\" como nome de variável por causa da sua semelhança visual com o número \"1\"\n",
    "j = a*b #atribuindo o valor da multiplicação da variável a com a variável b à variável \"j\"\n",
    "print(j) #escrever a variável j"
   ]
  },
  {
   "cell_type": "code",
   "execution_count": 38,
   "id": "b40c0f16-f5e3-4b18-8ae7-38b17c4200b0",
   "metadata": {},
   "outputs": [
    {
     "data": {
      "text/plain": [
       "1.0"
      ]
     },
     "execution_count": 38,
     "metadata": {},
     "output_type": "execute_result"
    }
   ],
   "source": [
    "# Divisão\n",
    "a/b #dividindo o valor da variável \"a\" pelo o valor da variável \"b\""
   ]
  },
  {
   "cell_type": "code",
   "execution_count": 39,
   "id": "a014047f-9c4d-46ae-9815-1e7eb6591adf",
   "metadata": {},
   "outputs": [
    {
     "data": {
      "text/plain": [
       "25"
      ]
     },
     "execution_count": 39,
     "metadata": {},
     "output_type": "execute_result"
    }
   ],
   "source": [
    "# Potencia\n",
    "5**2 #comando para fazer o cálculo de 5²"
   ]
  },
  {
   "cell_type": "code",
   "execution_count": 40,
   "id": "d7cb8637-9261-464e-b8d8-a1ef71ce9045",
   "metadata": {},
   "outputs": [
    {
     "data": {
      "text/plain": [
       "22026.465794806718"
      ]
     },
     "execution_count": 40,
     "metadata": {},
     "output_type": "execute_result"
    }
   ],
   "source": [
    "# Operações matemáticas com a bibliotéca math\n",
    "import math #importando o módulo math\n",
    "\n",
    "math.exp(10) #chamando a função exp() desse módulo com o argumento 10"
   ]
  },
  {
   "cell_type": "code",
   "execution_count": 41,
   "id": "254d5c83-3794-4020-977a-2dfe2284e8fe",
   "metadata": {},
   "outputs": [
    {
     "data": {
      "text/plain": [
       "1.0"
      ]
     },
     "execution_count": 41,
     "metadata": {},
     "output_type": "execute_result"
    }
   ],
   "source": [
    "math.exp(0) #chamando a função exp() desse módulo com o argumento 0"
   ]
  },
  {
   "cell_type": "code",
   "execution_count": 42,
   "id": "eb6d4faf-979e-4784-9f82-c145c6b11005",
   "metadata": {},
   "outputs": [
    {
     "data": {
      "text/plain": [
       "2.718281828459045"
      ]
     },
     "execution_count": 42,
     "metadata": {},
     "output_type": "execute_result"
    }
   ],
   "source": [
    "math.exp(a) #chamando a função exp() desse módulo com a variável \"a\""
   ]
  },
  {
   "cell_type": "code",
   "execution_count": 43,
   "id": "f1d7ad0c-f9e7-4298-8974-bf0543b68d13",
   "metadata": {},
   "outputs": [
    {
     "data": {
      "text/plain": [
       "4.5399929762484854e-05"
      ]
     },
     "execution_count": 43,
     "metadata": {},
     "output_type": "execute_result"
    }
   ],
   "source": [
    "math.exp(-10) #chamando a função exp() desse módulo com o argumento -10"
   ]
  },
  {
   "cell_type": "code",
   "execution_count": 44,
   "id": "ac40bf61-afec-42cb-b205-42d5b2408fb7",
   "metadata": {},
   "outputs": [
    {
     "data": {
      "text/plain": [
       "0.0"
      ]
     },
     "execution_count": 44,
     "metadata": {},
     "output_type": "execute_result"
    }
   ],
   "source": [
    "import math as mt #importando o módulo math e o está renomeando como \"mt\"\n",
    "mt.log(c) #chamando a função log() desse módulo com a variável \"c\""
   ]
  },
  {
   "cell_type": "code",
   "execution_count": 45,
   "id": "d46d0fa0-89ea-4d16-8fa7-ca76f2c7d93f",
   "metadata": {},
   "outputs": [
    {
     "data": {
      "text/plain": [
       "2.0"
      ]
     },
     "execution_count": 45,
     "metadata": {},
     "output_type": "execute_result"
    }
   ],
   "source": [
    "mt.log10(100) #chamando a função log() desse módulo com o argumento 100"
   ]
  },
  {
   "cell_type": "markdown",
   "id": "360e17cf-626e-417e-9810-38dd4d85eec3",
   "metadata": {},
   "source": [
    "## Listas"
   ]
  },
  {
   "cell_type": "code",
   "execution_count": 46,
   "id": "26a2346c-d50c-41c3-bae5-433e01038df5",
   "metadata": {},
   "outputs": [
    {
     "name": "stdout",
     "output_type": "stream",
     "text": [
      "[1, 2, 3]\n"
     ]
    }
   ],
   "source": [
    "myFirstList = [1,2,3] #criando uma lista chamada \"myFirstList\" com os elementos 1, 2 e 3\n",
    "print(myFirstList) #escrever a lista \"myFirstList\""
   ]
  },
  {
   "cell_type": "code",
   "execution_count": 47,
   "id": "a9e2709b-7159-4ccc-af28-31766a89f843",
   "metadata": {},
   "outputs": [
    {
     "name": "stdout",
     "output_type": "stream",
     "text": [
      "1\n",
      "3\n"
     ]
    }
   ],
   "source": [
    "# Acessando valores da lista pelo index\n",
    "print(myFirstList[0]) #escrever o primeiro elemento da lista \"myFirstList\"\n",
    "print(myFirstList[2]) #escrever o terceiro elemento da lista \"myFirstList\""
   ]
  },
  {
   "cell_type": "code",
   "execution_count": 48,
   "id": "8f6ba8fb-c411-455c-be60-18fe66ce3af6",
   "metadata": {},
   "outputs": [
    {
     "data": {
      "text/plain": [
       "False"
      ]
     },
     "execution_count": 48,
     "metadata": {},
     "output_type": "execute_result"
    }
   ],
   "source": [
    "myFirstList==a #comparando se a lista \"myFirstList\" é igual a variável \"a\""
   ]
  },
  {
   "cell_type": "code",
   "execution_count": 49,
   "id": "6ae4c402-e1d0-4cb6-9374-f7d8b6ad0099",
   "metadata": {},
   "outputs": [
    {
     "data": {
      "text/plain": [
       "True"
      ]
     },
     "execution_count": 49,
     "metadata": {},
     "output_type": "execute_result"
    }
   ],
   "source": [
    "myFirstList[0]==a #comparando se o primeiro elemento da lista \"myFirstList\" é igual a variável \"a\""
   ]
  },
  {
   "cell_type": "code",
   "execution_count": 50,
   "id": "0026c56a-7847-4aba-8a00-b4df63da6f8d",
   "metadata": {},
   "outputs": [
    {
     "name": "stdout",
     "output_type": "stream",
     "text": [
      "[1, 1, 'c']\n"
     ]
    }
   ],
   "source": [
    "mySecList = [1,a,'c'] #criando uma lista chamada \"mySecList\" com os elementos: o número 1, o valor da variável a e o texto (str) 'c'\n",
    "print(mySecList) #escrever a lista \"mySecList\""
   ]
  },
  {
   "cell_type": "code",
   "execution_count": 51,
   "id": "845d2a28-18e5-40a4-9d9b-47dad34a756c",
   "metadata": {},
   "outputs": [
    {
     "data": {
      "text/plain": [
       "list"
      ]
     },
     "execution_count": 51,
     "metadata": {},
     "output_type": "execute_result"
    }
   ],
   "source": [
    "type(mySecList) #serve para escrever o tipo de variável que é \"mySecList\""
   ]
  },
  {
   "cell_type": "code",
   "execution_count": 52,
   "id": "415a6ef1-39d4-492e-b2cd-e8736eea163c",
   "metadata": {},
   "outputs": [
    {
     "data": {
      "text/plain": [
       "str"
      ]
     },
     "execution_count": 52,
     "metadata": {},
     "output_type": "execute_result"
    }
   ],
   "source": [
    "type(mySecList[2]) #serve para escrever o tipo de variável que é o terceiro elemento da lista \"mySecList\""
   ]
  },
  {
   "cell_type": "code",
   "execution_count": 53,
   "id": "6e5723e5-b102-42ca-b0a9-e59a628cfb03",
   "metadata": {},
   "outputs": [
    {
     "data": {
      "text/plain": [
       "int"
      ]
     },
     "execution_count": 53,
     "metadata": {},
     "output_type": "execute_result"
    }
   ],
   "source": [
    "type(mySecList[1]) #serve para escrever o tipo de variável que é o segundo elemento da lista \"mySecList\""
   ]
  },
  {
   "cell_type": "code",
   "execution_count": 54,
   "id": "837fcaa8-2eb6-493b-9d7d-1a7d83d6b899",
   "metadata": {},
   "outputs": [
    {
     "data": {
      "text/plain": [
       "int"
      ]
     },
     "execution_count": 54,
     "metadata": {},
     "output_type": "execute_result"
    }
   ],
   "source": [
    "type(mySecList[0]) #serve para escrever o tipo de variável que é o primeiro elemento da lista \"mySecList\""
   ]
  },
  {
   "cell_type": "markdown",
   "id": "d87b8694-d849-4752-8eff-520df22694da",
   "metadata": {},
   "source": [
    "## Caminhos = path"
   ]
  },
  {
   "cell_type": "code",
   "execution_count": 59,
   "id": "ffdf2c53-c299-4e43-b2b1-38a033c54606",
   "metadata": {},
   "outputs": [
    {
     "name": "stdout",
     "output_type": "stream",
     "text": [
      "C:\\Users\\Suelen Silva\\Documents\\CONTROLE_24.1\\ENS5173_202401\n"
     ]
    }
   ],
   "source": [
    "path = r\"C:\\Users\\Suelen Silva\\Documents\\CONTROLE_24.1\\ENS5173_202401\" #define uma variável chamada \"path\" com o valor da string que representa um caminho de diretório no sistema Windows\n",
    "# o \"r\" antes do caminho representa serve para o caminho no Windows, onde barras invertidas (\\) são usadas como separadores de diretório\n",
    "print(path) #escrever a variável chamada \"path\""
   ]
  },
  {
   "cell_type": "code",
   "execution_count": 60,
   "id": "2e20bd75-fe8b-44a9-b7f3-82037a3d5366",
   "metadata": {},
   "outputs": [
    {
     "name": "stdout",
     "output_type": "stream",
     "text": [
      "C:/Users/Suelen Silva/Documents/CONTROLE_24.1/ENS5173_202401\n"
     ]
    }
   ],
   "source": [
    "path = \"C:/Users/Suelen Silva/Documents/CONTROLE_24.1/ENS5173_202401\" #define uma variável chamada \"path\" com o valor da string que representa um caminho de diretório no sistema Windows\n",
    "print(path) #escrever a variável chamada \"path\""
   ]
  },
  {
   "cell_type": "code",
   "execution_count": 62,
   "id": "8e85abf1-53d1-4b64-be89-d579776870c1",
   "metadata": {},
   "outputs": [
    {
     "data": {
      "text/plain": [
       "['.git',\n",
       " '.gitignore',\n",
       " '.ipynb_checkpoints',\n",
       " 'Atividade01_Etapa01.ipynb',\n",
       " 'Aula01.ipynb',\n",
       " 'inputs',\n",
       " 'README.md',\n",
       " 'scripts',\n",
       " 'venv']"
      ]
     },
     "execution_count": 62,
     "metadata": {},
     "output_type": "execute_result"
    }
   ],
   "source": [
    "import os #importando o módulo \"os\" para interagir com o sistema operacional\n",
    "os.listdir(path) #listar os arquivos no diretório especificado pela variável \"path\"\n",
    "\n",
    "#NOTA: pq ficou na vertical? tem algum problema?"
   ]
  },
  {
   "cell_type": "code",
   "execution_count": 63,
   "id": "102c2679-9d08-432f-8397-bba464ae4b36",
   "metadata": {},
   "outputs": [
    {
     "data": {
      "text/plain": [
       "'.git'"
      ]
     },
     "execution_count": 63,
     "metadata": {},
     "output_type": "execute_result"
    }
   ],
   "source": [
    "os.listdir(path)[0] #selecionar primeiro arquivo listado na variável \"path\", lembrando se usar \"os\" para interagir com o sistema operacional"
   ]
  },
  {
   "cell_type": "code",
   "execution_count": 67,
   "id": "70dc760d-28dc-43fe-80f8-f75ed8fb087b",
   "metadata": {},
   "outputs": [
    {
     "data": {
      "text/plain": [
       "'C:/Users/Suelen Silva/Documents/CONTROLE_24.1/ENS5173_202401/.git'"
      ]
     },
     "execution_count": 67,
     "metadata": {},
     "output_type": "execute_result"
    }
   ],
   "source": [
    "path+\"/\"+os.listdir(path)[0] #Concatenando (combinar duas ou mais strings em uma única string) caminhos\n",
    "\n",
    "#NOTA: aqui estou dando um comando para criar a combinação"
   ]
  },
  {
   "cell_type": "code",
   "execution_count": 66,
   "id": "f1cfdda4-2867-43a9-806f-1a194cd8207b",
   "metadata": {},
   "outputs": [
    {
     "name": "stdout",
     "output_type": "stream",
     "text": [
      "C:/Users/Suelen Silva/Documents/CONTROLE_24.1/ENS5173_202401/.git\n"
     ]
    }
   ],
   "source": [
    "#NOTA: aqui estou pedindo para escrever a combinação\n",
    "\n",
    "print(path+\"/\"+os.listdir(path)[0])"
   ]
  },
  {
   "cell_type": "code",
   "execution_count": 68,
   "id": "5d9407a4-116d-47f0-8d2b-67adac40618d",
   "metadata": {},
   "outputs": [
    {
     "data": {
      "text/plain": [
       "['COMMIT_EDITMSG',\n",
       " 'config',\n",
       " 'description',\n",
       " 'FETCH_HEAD',\n",
       " 'HEAD',\n",
       " 'hooks',\n",
       " 'index',\n",
       " 'info',\n",
       " 'logs',\n",
       " 'objects',\n",
       " 'packed-refs',\n",
       " 'refs']"
      ]
     },
     "execution_count": 68,
     "metadata": {},
     "output_type": "execute_result"
    }
   ],
   "source": [
    "os.listdir(path+\"/\"+os.listdir(path)[0]) #listar os arquivos no diretório especificado pelo caminho concatenado"
   ]
  },
  {
   "cell_type": "code",
   "execution_count": 69,
   "id": "940c5ddc-4072-4d0c-8f0b-5f8a96b4d9aa",
   "metadata": {},
   "outputs": [
    {
     "data": {
      "text/plain": [
       "'C:\\\\Users\\\\Suelen Silva\\\\Documents\\\\CONTROLE_24.1\\\\ENS5173_202401'"
      ]
     },
     "execution_count": 69,
     "metadata": {},
     "output_type": "execute_result"
    }
   ],
   "source": [
    "os.getcwd() #obter o diretório de trabalho atual do processo"
   ]
  },
  {
   "cell_type": "code",
   "execution_count": 72,
   "id": "6e0178d9-cb7f-43aa-994d-b570575d3950",
   "metadata": {},
   "outputs": [],
   "source": [
    "os.chdir('C:\\\\Users\\\\Suelen Silva\\\\Documents\\\\CONTROLE_24.1\\\\') #mudar o diretório de trabalho atual para o caminho especificado"
   ]
  },
  {
   "cell_type": "code",
   "execution_count": 74,
   "id": "b63c3d31-f4fd-4ae7-8e1e-30dab602d4eb",
   "metadata": {},
   "outputs": [
    {
     "data": {
      "text/plain": [
       "'C:\\\\Users\\\\Suelen Silva\\\\Documents\\\\CONTROLE_24.1'"
      ]
     },
     "execution_count": 74,
     "metadata": {},
     "output_type": "execute_result"
    }
   ],
   "source": [
    "os.getcwd() #para conferir se mudou"
   ]
  },
  {
   "cell_type": "code",
   "execution_count": 78,
   "id": "e975468d-1a93-4e79-a856-e6c7e8ed7e77",
   "metadata": {},
   "outputs": [
    {
     "name": "stdout",
     "output_type": "stream",
     "text": [
      "Criando diretório C:\\Users\\Suelen Silva\\Documents\\CONTROLE_24.1/test\n"
     ]
    }
   ],
   "source": [
    "# Criando diretório\n",
    "new_path = os.getcwd()+'/test' #comando para criar uma nova pasta no diretório atual com o nome \"test\"\n",
    "#mas primeiro verifica-se se o diretório já existe\n",
    "\n",
    "if os.path.isdir(new_path): \n",
    "    print('diretório já existe') #Se sim, imprime \"diretório já existe\"\n",
    "else:\n",
    "    print('Criando diretório '+new_path) #Caso contrário, imprime 'Criando diretório' seguido do caminho do novo diretório\n",
    "    os.mkdir(new_path) #para criar o diretório"
   ]
  },
  {
   "cell_type": "code",
   "execution_count": 79,
   "id": "2cfea726-9c74-426c-9950-afceab04b79a",
   "metadata": {},
   "outputs": [
    {
     "name": "stdout",
     "output_type": "stream",
     "text": [
      "diretório já existe\n"
     ]
    }
   ],
   "source": [
    "# Criei uma pasta test2 e agora vou testar a função \"diretório já existe\"\n",
    "new_path = os.getcwd()+'/test2' #comando para criar uma nova pasta no diretório atual com o nome \"test2\"\n",
    "#mas primeiro verifica-se se o diretório já existe\n",
    "\n",
    "if os.path.isdir(new_path): \n",
    "    print('diretório já existe') #Se sim, imprime \"diretório já existe\"\n",
    "else:\n",
    "    print('Criando diretório '+new_path) #Caso contrário, imprime 'Criando diretório' seguido do caminho do novo diretório\n",
    "    os.mkdir(new_path) #para criar o diretório"
   ]
  },
  {
   "cell_type": "markdown",
   "id": "a9f00846-d7dd-4ceb-9f62-94bb8dfe0627",
   "metadata": {},
   "source": [
    "## Numpy arrays e Pandas DataFrames"
   ]
  },
  {
   "cell_type": "code",
   "execution_count": 81,
   "id": "afbad311-02b1-4b9d-bc46-4f4c77c1a159",
   "metadata": {},
   "outputs": [
    {
     "data": {
      "text/plain": [
       "numpy.ndarray"
      ]
     },
     "execution_count": 81,
     "metadata": {},
     "output_type": "execute_result"
    }
   ],
   "source": [
    "import numpy as np #importando a biblioteca NumPy com o nome np \n",
    "n = np.array(0) #criando uma variável numpy chamada n com o valor 0\n",
    "type(n) #serve para escrever o tipo de variável que é \"n\"\n",
    "\n",
    "#o tipo da variável n é <class 'numpy.ndarray'>, indicando que n é uma matriz NumPy"
   ]
  },
  {
   "cell_type": "code",
   "execution_count": 82,
   "id": "f437c1a0-c77f-41eb-8d08-075f82c1d6a5",
   "metadata": {},
   "outputs": [
    {
     "name": "stdout",
     "output_type": "stream",
     "text": [
      "[ 1  2  3 10 20 55]\n"
     ]
    }
   ],
   "source": [
    "myThirdList=[1,2,3,10,20,55] #criando uma lista chamada \"myThirdList\" com os elementos 1,2,3,10,20 e 55\n",
    "n = np.array(myThirdList) #criando uma variável numpy a partir da lista \"myThirdList\"\n",
    "print(n) #escrever a lista \"myThirdList\""
   ]
  },
  {
   "cell_type": "code",
   "execution_count": 83,
   "id": "b04dd6bb-aa60-482e-96c1-83a50945d422",
   "metadata": {},
   "outputs": [
    {
     "name": "stdout",
     "output_type": "stream",
     "text": [
      "[[0.4034979  0.83995636 0.4991784  0.01014463 0.40378563 0.15151058\n",
      "  0.68747332 0.09663867 0.8333104  0.36357639]\n",
      " [0.73309204 0.61941242 0.3424638  0.60614383 0.03743412 0.15997229\n",
      "  0.36108948 0.27388801 0.85536467 0.79421785]\n",
      " [0.34440549 0.77287609 0.32802111 0.14612376 0.56676989 0.77941086\n",
      "  0.52058225 0.84189127 0.3058645  0.8785943 ]\n",
      " [0.16907673 0.66208957 0.85875858 0.77096716 0.46127196 0.22154524\n",
      "  0.55591854 0.37149865 0.47580774 0.09266018]\n",
      " [0.21086726 0.87082176 0.81605942 0.53394321 0.00826068 0.13803703\n",
      "  0.81610971 0.81222773 0.88868118 0.48427459]\n",
      " [0.82956908 0.22338722 0.12714842 0.04711663 0.19395073 0.74580455\n",
      "  0.40536332 0.4732596  0.81850746 0.95005675]\n",
      " [0.00818275 0.87065771 0.29768168 0.76244022 0.18868835 0.43096026\n",
      "  0.3830915  0.6954469  0.48050336 0.41282523]\n",
      " [0.20821238 0.11366606 0.2681954  0.36387287 0.95639075 0.68309399\n",
      "  0.4836313  0.2117978  0.30526002 0.53590881]\n",
      " [0.92956065 0.86753969 0.56366524 0.61543535 0.493082   0.03171894\n",
      "  0.07484431 0.99998589 0.76196466 0.53591399]\n",
      " [0.43629749 0.62378019 0.37614918 0.08606338 0.54787216 0.85200201\n",
      "  0.26698355 0.63831294 0.97948546 0.02484631]]\n",
      "(10, 10)\n"
     ]
    }
   ],
   "source": [
    "\n",
    "n = np.random.rand(10,10) #utilizando a biblioteca NumPy para criar uma matriz 10x10 preenchida com números aleatórios entre 0 e 1\n",
    "print(n) #escrever a matriz\n",
    "print(n.shape) #escrever as dimensões da matriz \"n\""
   ]
  },
  {
   "cell_type": "code",
   "execution_count": 84,
   "id": "b4f6a191-c82e-4d08-96c3-09aaf9590516",
   "metadata": {},
   "outputs": [
    {
     "data": {
      "text/plain": [
       "array([0.4034979 , 0.83995636, 0.4991784 , 0.01014463, 0.40378563,\n",
       "       0.15151058, 0.68747332, 0.09663867, 0.8333104 , 0.36357639])"
      ]
     },
     "execution_count": 84,
     "metadata": {},
     "output_type": "execute_result"
    }
   ],
   "source": [
    "n[0,:] #acessando a primeira linha da matriz em todas as colunas"
   ]
  },
  {
   "cell_type": "code",
   "execution_count": 85,
   "id": "db70217e-4a54-4728-9fdc-5eb261b1d111",
   "metadata": {},
   "outputs": [
    {
     "data": {
      "text/plain": [
       "array([0.4034979 , 0.83995636, 0.4991784 , 0.01014463, 0.40378563,\n",
       "       0.15151058, 0.68747332, 0.09663867, 0.8333104 , 0.36357639])"
      ]
     },
     "execution_count": 85,
     "metadata": {},
     "output_type": "execute_result"
    }
   ],
   "source": [
    "n[:,0] #acessando a primeira coluna da matriz em todas as linhas"
   ]
  },
  {
   "cell_type": "code",
   "execution_count": 86,
   "id": "a530993f-2c7f-43dc-a6fe-b88298b9cb32",
   "metadata": {},
   "outputs": [
    {
     "data": {
      "text/plain": [
       "array([[0.83995636, 0.4991784 , 0.01014463, 0.40378563],\n",
       "       [0.61941242, 0.3424638 , 0.60614383, 0.03743412],\n",
       "       [0.77287609, 0.32802111, 0.14612376, 0.56676989],\n",
       "       [0.66208957, 0.85875858, 0.77096716, 0.46127196],\n",
       "       [0.87082176, 0.81605942, 0.53394321, 0.00826068],\n",
       "       [0.22338722, 0.12714842, 0.04711663, 0.19395073],\n",
       "       [0.87065771, 0.29768168, 0.76244022, 0.18868835],\n",
       "       [0.11366606, 0.2681954 , 0.36387287, 0.95639075],\n",
       "       [0.86753969, 0.56366524, 0.61543535, 0.493082  ],\n",
       "       [0.62378019, 0.37614918, 0.08606338, 0.54787216]])"
      ]
     },
     "execution_count": 86,
     "metadata": {},
     "output_type": "execute_result"
    }
   ],
   "source": [
    "n[:,1:5] #acessando as colunas da matriz da segunda (índice 1) até a quinta (índice 4) em todas as linhas"
   ]
  },
  {
   "cell_type": "code",
   "execution_count": 87,
   "id": "ce38ea92-e8ce-49cf-9c86-92f681e3256d",
   "metadata": {},
   "outputs": [
    {
     "data": {
      "text/plain": [
       "array([0.83995636, 0.4991784 , 0.01014463, 0.40378563])"
      ]
     },
     "execution_count": 87,
     "metadata": {},
     "output_type": "execute_result"
    }
   ],
   "source": [
    "n[0,1:5] #acessando as colunas da matriz da segunda (índice 1) até a quinta (índice 4) na primeira linha"
   ]
  },
  {
   "cell_type": "code",
   "execution_count": 88,
   "id": "2baeacbc-d420-40b5-95dc-4095a7b9b438",
   "metadata": {},
   "outputs": [
    {
     "data": {
      "text/plain": [
       "0.3635763908994317"
      ]
     },
     "execution_count": 88,
     "metadata": {},
     "output_type": "execute_result"
    }
   ],
   "source": [
    "n[0,-1] #acessando a última coluna da matriz (índice -1) na primeira linha (índice 0)"
   ]
  },
  {
   "cell_type": "code",
   "execution_count": 89,
   "id": "bf65ede6-5fa7-47ae-b778-1518e5721538",
   "metadata": {},
   "outputs": [
    {
     "data": {
      "text/plain": [
       "array([0.40378563, 0.15151058, 0.68747332, 0.09663867, 0.8333104 ])"
      ]
     },
     "execution_count": 89,
     "metadata": {},
     "output_type": "execute_result"
    }
   ],
   "source": [
    "n[0,4:-1] #acessando da quinta até a penúltima coluna da matriz (índice 4:-1) na primeira linha (índice 0)"
   ]
  },
  {
   "cell_type": "code",
   "execution_count": 90,
   "id": "812ba763-ece9-46f7-8e36-29c0609d1640",
   "metadata": {},
   "outputs": [
    {
     "data": {
      "text/plain": [
       "array([0.40378563, 0.15151058, 0.68747332, 0.09663867, 0.8333104 ,\n",
       "       0.36357639])"
      ]
     },
     "execution_count": 90,
     "metadata": {},
     "output_type": "execute_result"
    }
   ],
   "source": [
    "n[0,4:] #acessando da quinta até a última coluna da matriz (índice 4:) na primeira linha (índice 0)"
   ]
  },
  {
   "cell_type": "code",
   "execution_count": 91,
   "id": "b3b9a324-a556-4b7e-adab-3ad60af1bceb",
   "metadata": {},
   "outputs": [
    {
     "name": "stdout",
     "output_type": "stream",
     "text": [
      "[[ 0.70185391  1.43503257  0.91464619 -2.98137281  0.70256676 -0.27766191\n",
      "   1.23470566 -0.72733839  1.42708883  0.59767206]\n",
      " [ 1.29895389  1.13045396  0.5378486   1.10879994 -1.67573482 -0.22331678\n",
      "   0.59080843  0.31440194  1.45321053  1.37904042]\n",
      " [ 0.54350234  1.35180137  0.49476059 -0.31386343  1.04163602  1.36022096\n",
      "   0.95663053  1.43733351  0.42482484  1.48000587]\n",
      " [-0.16796475  1.19708348  1.45717047  1.34932841  0.83567045  0.10230944\n",
      "   1.02230441  0.61922788  0.86669649 -0.76937855]\n",
      " [ 0.05291149  1.47111995  1.40616981  0.98197211 -3.18681039 -0.37079537\n",
      "   1.40623143  1.40146339  1.49142117  0.88433471]\n",
      " [ 1.42258902  0.11058932 -0.45296228 -1.4456913  -0.0307132   1.3161462\n",
      "   0.70646637  0.86132671  1.40916514  1.55820435]\n",
      " [-3.19628907  1.47093155  0.39770735  1.33820674 -0.05822064  0.76769853\n",
      "   0.6499565   1.24623729  0.87651686  0.72470698]\n",
      " [ 0.04024123 -0.56505252  0.29339845  0.59848719  1.5648492   1.2283151\n",
      "   0.88300548  0.05731467  0.42284656  0.98564664]\n",
      " [ 1.53639469  1.4673439   1.03614316  1.12401254  0.90235813 -1.84140327\n",
      "  -0.98290727  1.60942381  1.3375828   0.98565631]\n",
      " [ 0.78000696  1.13748068  0.63166846 -0.84323339  1.00772461  1.44927152\n",
      "   0.28886968  1.1605113   1.58871003 -2.08560824]]\n"
     ]
    }
   ],
   "source": [
    "an = np.log(n*5) #multiplica todos os elementos da matriz n por 5 e armazena na variável \"an\"\n",
    "print(an) #escrever as dimensões da matriz \"an\""
   ]
  },
  {
   "cell_type": "code",
   "execution_count": null,
   "id": "8a985516-ad2e-4263-8a6d-18f19a6a5755",
   "metadata": {},
   "outputs": [],
   "source": []
  }
 ],
 "metadata": {
  "kernelspec": {
   "display_name": "Python 3 (ipykernel)",
   "language": "python",
   "name": "python3"
  },
  "language_info": {
   "codemirror_mode": {
    "name": "ipython",
    "version": 3
   },
   "file_extension": ".py",
   "mimetype": "text/x-python",
   "name": "python",
   "nbconvert_exporter": "python",
   "pygments_lexer": "ipython3",
   "version": "3.11.8"
  }
 },
 "nbformat": 4,
 "nbformat_minor": 5
}
