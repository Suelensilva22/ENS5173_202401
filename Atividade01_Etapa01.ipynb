{
 "cells": [
  {
   "cell_type": "markdown",
   "id": "aa46255b-2287-4717-8c80-1a8694d9e389",
   "metadata": {},
   "source": [
    "# Aula 02 - Python"
   ]
  },
  {
   "cell_type": "markdown",
   "id": "16b7540c-f17d-4cdc-afa9-9200e5e229d8",
   "metadata": {},
   "source": [
    "## Dados numéricos"
   ]
  },
  {
   "cell_type": "code",
   "execution_count": 23,
   "id": "e513853e-41c5-4b76-99c9-48b98284361e",
   "metadata": {},
   "outputs": [
    {
     "name": "stdout",
     "output_type": "stream",
     "text": [
      "Valor de a = 1\n"
     ]
    },
    {
     "data": {
      "text/plain": [
       "int"
      ]
     },
     "execution_count": 23,
     "metadata": {},
     "output_type": "execute_result"
    }
   ],
   "source": [
    "# Variável inteira - a # é utilizada para fazer comentários sem afetar o código\n",
    "a = 1 #definindo o valor de a\n",
    "print('Valor de a = '+str(a)) #print serve para mostrar, entre os ' ' está o que deve mostrar escrito (não comando) e o +str(a) que é para escrever o valor de a\n",
    "type(a) #serve para escrever o tipo de varável que é \"a\""
   ]
  },
  {
   "cell_type": "code",
   "execution_count": 6,
   "id": "11bc6e30-9407-4bb0-8b24-64d4733b96ef",
   "metadata": {},
   "outputs": [
    {
     "name": "stdout",
     "output_type": "stream",
     "text": [
      "1.0\n"
     ]
    },
    {
     "data": {
      "text/plain": [
       "float"
      ]
     },
     "execution_count": 6,
     "metadata": {},
     "output_type": "execute_result"
    }
   ],
   "source": [
    "# Variável dupla precisão\n",
    "b = 1.0 #definindo a variável b\n",
    "print(b) #escrever o valor da variável b\n",
    "type(b) #serve para escrever o tipo de varável que é \"b\""
   ]
  },
  {
   "cell_type": "code",
   "execution_count": 7,
   "id": "1bcd008c-c696-4d96-9464-e00564cc1bf0",
   "metadata": {},
   "outputs": [
    {
     "name": "stdout",
     "output_type": "stream",
     "text": [
      "1\n"
     ]
    },
    {
     "data": {
      "text/plain": [
       "int"
      ]
     },
     "execution_count": 7,
     "metadata": {},
     "output_type": "execute_result"
    }
   ],
   "source": [
    "# Converter float para int\n",
    "c = int(b) #transformar b que era uma variável de dupla precisão em um número inteiro\n",
    "print(c) #escrever o valor da variável c\n",
    "type(c) #serve para escrever o tipo de varável que é \"c\""
   ]
  },
  {
   "cell_type": "code",
   "execution_count": 9,
   "id": "8567fd5d-446d-4481-9312-33ad7ea376c1",
   "metadata": {},
   "outputs": [
    {
     "name": "stdout",
     "output_type": "stream",
     "text": [
      "nan\n"
     ]
    },
    {
     "data": {
      "text/plain": [
       "float"
      ]
     },
     "execution_count": 9,
     "metadata": {},
     "output_type": "execute_result"
    }
   ],
   "source": [
    "# Delacrando nan\n",
    "import numpy as np #importando a biblioteca NumPy com o nome np\n",
    "d = np.nan #definindo a variável d como nan, um valor especial utilizado para representar a falta de um valor numérico\n",
    "print(d) #escrever a variável d\n",
    "type(d) #serve para escrever o tipo de varável que é \"d\""
   ]
  },
  {
   "cell_type": "code",
   "execution_count": 10,
   "id": "b2e94645-9543-4797-ae77-8a7e8a38f938",
   "metadata": {},
   "outputs": [
    {
     "name": "stdout",
     "output_type": "stream",
     "text": [
      "nan\n",
      "nan\n",
      "1.0\n"
     ]
    }
   ],
   "source": [
    "# Operação com NaN\n",
    "e = d*1 #multiplicando nan com 1\n",
    "print(e) #escrever a variável e\n",
    "e = d+1 #somando nan com 1\n",
    "print(e) #escrever a variável e\n",
    "e = np.nansum([d,1]) #somando os valores contidos na lista [d, 1], ignorando qualquer valor NaN na operação de soma\n",
    "print(e) #escrever a variável e"
   ]
  },
  {
   "cell_type": "markdown",
   "id": "14412b14-15b0-4ad8-b551-f963c7fe80fb",
   "metadata": {},
   "source": [
    "## Dados numéricos"
   ]
  },
  {
   "cell_type": "code",
   "execution_count": 16,
   "id": "6f7f6d4d-5057-4223-8d55-be397babd8a3",
   "metadata": {},
   "outputs": [
    {
     "name": "stdout",
     "output_type": "stream",
     "text": [
      "Fábio\n",
      "<class 'str'>\n",
      "Gabriel\n",
      "<class 'str'>\n",
      "FábioGabriel\n",
      "Fábio Gabriel\n"
     ]
    }
   ],
   "source": [
    "# Declaração de variável texto\n",
    "f = 'Fábio' #definindo a variável f como texto (str) com o uso de ''\n",
    "g = \"Gabriel\" #definindo a variável g como texto (str) com o uso de \"\", mostrando que funciona das duas formas de aspas\n",
    "print(f) #escrever a variável f\n",
    "print(type(f)) #serve para escrever o tipo de varável que é \"f\" (conferindo se foi definido como texto)\n",
    "print(g) #escrever a variável g\n",
    "print(type(g)) #serve para escrever o tipo de varável que é \"g\" (conferindo se foi definido como texto)\n",
    "print(f+g) #escrever as variáveis f e g\n",
    "print(f+' '+g) #se queremos que mostre f e g escrito separado temos que usar ' ' ou \" \""
   ]
  },
  {
   "cell_type": "markdown",
   "id": "0a071ed8-f8fc-46fd-a078-800b57e2b7b1",
   "metadata": {},
   "source": [
    "## Dados tipo bool - lógica"
   ]
  },
  {
   "cell_type": "code",
   "execution_count": 14,
   "id": "75bf7e88-240d-426c-a97d-77903d802604",
   "metadata": {},
   "outputs": [
    {
     "data": {
      "text/plain": [
       "True"
      ]
     },
     "execution_count": 14,
     "metadata": {},
     "output_type": "execute_result"
    }
   ],
   "source": [
    "a == 1 #verifica se o valor de \"a\" é igual a 1"
   ]
  },
  {
   "cell_type": "code",
   "execution_count": 19,
   "id": "05dcea53-b8dd-4e64-84f4-2702e38c7c2d",
   "metadata": {},
   "outputs": [
    {
     "name": "stdout",
     "output_type": "stream",
     "text": [
      "True\n"
     ]
    },
    {
     "data": {
      "text/plain": [
       "bool"
      ]
     },
     "execution_count": 19,
     "metadata": {},
     "output_type": "execute_result"
    }
   ],
   "source": [
    "h = (a==1) #definindo h como a verificação (se o valor de \"a\" é igual a 1)\n",
    "print(h) #escrever a variável h\n",
    "type(h) #serve para escrever o tipo de varável que é \"h\""
   ]
  },
  {
   "cell_type": "code",
   "execution_count": 20,
   "id": "4b3e8080-f422-4c16-849a-c15a0fef8208",
   "metadata": {},
   "outputs": [
    {
     "name": "stdout",
     "output_type": "stream",
     "text": [
      "False\n"
     ]
    },
    {
     "data": {
      "text/plain": [
       "bool"
      ]
     },
     "execution_count": 20,
     "metadata": {},
     "output_type": "execute_result"
    }
   ],
   "source": [
    "h = (a==2) #definindo h como a verificação (se o valor de \"a\" é igual a 2)\n",
    "print(h) #escrever a variável h\n",
    "type(h) #serve para escrever o tipo de varável que é \"h\""
   ]
  },
  {
   "cell_type": "code",
   "execution_count": 21,
   "id": "7087536f-baf7-4274-8e5c-d553b992bb24",
   "metadata": {},
   "outputs": [
    {
     "data": {
      "text/plain": [
       "bool"
      ]
     },
     "execution_count": 21,
     "metadata": {},
     "output_type": "execute_result"
    }
   ],
   "source": [
    "i = True #está atribuindo o valor booleano verdadeiro (True) à variável i\n",
    "type(i) #serve para escrever o tipo de varável que é \"i\""
   ]
  },
  {
   "cell_type": "code",
   "execution_count": 22,
   "id": "11b6e96e-80b7-4bd3-97df-295a950b6094",
   "metadata": {},
   "outputs": [
    {
     "data": {
      "text/plain": [
       "str"
      ]
     },
     "execution_count": 22,
     "metadata": {},
     "output_type": "execute_result"
    }
   ],
   "source": [
    "ii = 'True' #está atribuindo à variável f o texto \"True\", quando usamos '' entende-se que a variável é texto\n",
    "type(ii) #serve para escrever o tipo de varável que é \"ii\""
   ]
  },
  {
   "cell_type": "markdown",
   "id": "fda7e7a2-abae-45a2-ba92-d30fe131dc83",
   "metadata": {},
   "source": [
    "## Operação de comparação"
   ]
  },
  {
   "cell_type": "code",
   "execution_count": 24,
   "id": "0cf04677-b6d0-4ef4-af71-05a52573dbc9",
   "metadata": {},
   "outputs": [
    {
     "data": {
      "text/plain": [
       "True"
      ]
     },
     "execution_count": 24,
     "metadata": {},
     "output_type": "execute_result"
    }
   ],
   "source": [
    "# Operação ==\n",
    "a==b #comparando se a variável \"a\" é igual a variável \"b\" definidas anteriormente"
   ]
  },
  {
   "cell_type": "code",
   "execution_count": 30,
   "id": "e7b84236-49ba-4906-814d-50219f172f65",
   "metadata": {},
   "outputs": [
    {
     "data": {
      "text/plain": [
       "False"
      ]
     },
     "execution_count": 30,
     "metadata": {},
     "output_type": "execute_result"
    }
   ],
   "source": [
    "# Operação ><\n",
    "a>b #comparando se a variável \"a\" é maior que a variável \"b\""
   ]
  },
  {
   "cell_type": "code",
   "execution_count": 31,
   "id": "f4050832-e39f-4c52-8bb4-c4ee46d91a70",
   "metadata": {},
   "outputs": [
    {
     "data": {
      "text/plain": [
       "False"
      ]
     },
     "execution_count": 31,
     "metadata": {},
     "output_type": "execute_result"
    }
   ],
   "source": [
    "# Operação ><\n",
    "a<b #comparando se a variável \"a\" é menor que a variável \"b\""
   ]
  },
  {
   "cell_type": "code",
   "execution_count": 32,
   "id": "f660937c-f8b7-4dd0-921d-07e045e2c99a",
   "metadata": {},
   "outputs": [
    {
     "data": {
      "text/plain": [
       "False"
      ]
     },
     "execution_count": 32,
     "metadata": {},
     "output_type": "execute_result"
    }
   ],
   "source": [
    "# Operação !=\n",
    "a!=b #comparando se a variável \"a\" é diferente da variável \"b\""
   ]
  },
  {
   "cell_type": "code",
   "execution_count": 33,
   "id": "c4b6207c-2c6c-4366-a70b-730847b014cd",
   "metadata": {},
   "outputs": [
    {
     "data": {
      "text/plain": [
       "True"
      ]
     },
     "execution_count": 33,
     "metadata": {},
     "output_type": "execute_result"
    }
   ],
   "source": [
    "# Operação >= ou <=\n",
    "a>=b #comparando se a variável \"a\" é maior ou igual a variável \"b\""
   ]
  },
  {
   "cell_type": "markdown",
   "id": "aee0e088-7613-458b-b480-f4ddcda04cfc",
   "metadata": {},
   "source": [
    "## Operações matemáticas"
   ]
  },
  {
   "cell_type": "code",
   "execution_count": 34,
   "id": "3e2ac8b7-7d8b-4e2e-be33-4b93d657d7d8",
   "metadata": {},
   "outputs": [
    {
     "data": {
      "text/plain": [
       "2.0"
      ]
     },
     "execution_count": 34,
     "metadata": {},
     "output_type": "execute_result"
    }
   ],
   "source": [
    "# Soma \n",
    "a+b #somando o valor da variável \"a\" com o valor da variável \"b\""
   ]
  },
  {
   "cell_type": "code",
   "execution_count": 35,
   "id": "fb91cb0a-4a8a-4db0-80fc-417fb738d04a",
   "metadata": {},
   "outputs": [
    {
     "name": "stdout",
     "output_type": "stream",
     "text": [
      "2.0\n"
     ]
    }
   ],
   "source": [
    "# Soma e atribui valor\n",
    "ab = a+b #atribuindo o valor da soma à variável \"ab\"\n",
    "print(ab) #escrever a variável ab"
   ]
  },
  {
   "cell_type": "code",
   "execution_count": 37,
   "id": "5a9b0484-df22-4df6-bc4c-6715d4ea5aff",
   "metadata": {},
   "outputs": [
    {
     "name": "stdout",
     "output_type": "stream",
     "text": [
      "Não use l como nome de variável\n",
      "1.0\n"
     ]
    }
   ],
   "source": [
    "# Multiplicação\n",
    "l = a*b # Não use  como variável \n",
    "print(\"Não use l como nome de variável\") #evitar usar a letra \"l\" como nome de variável por causa da sua semelhança visual com o número \"1\"\n",
    "j = a*b #atribuindo o valor da multiplicação da variável a com a variável b à variável \"j\"\n",
    "print(j) #escrever a variável j"
   ]
  },
  {
   "cell_type": "code",
   "execution_count": 38,
   "id": "b40c0f16-f5e3-4b18-8ae7-38b17c4200b0",
   "metadata": {},
   "outputs": [
    {
     "data": {
      "text/plain": [
       "1.0"
      ]
     },
     "execution_count": 38,
     "metadata": {},
     "output_type": "execute_result"
    }
   ],
   "source": [
    "# Divisão\n",
    "a/b #dividindo o valor da variável \"a\" pelo o valor da variável \"b\""
   ]
  },
  {
   "cell_type": "code",
   "execution_count": 39,
   "id": "a014047f-9c4d-46ae-9815-1e7eb6591adf",
   "metadata": {},
   "outputs": [
    {
     "data": {
      "text/plain": [
       "25"
      ]
     },
     "execution_count": 39,
     "metadata": {},
     "output_type": "execute_result"
    }
   ],
   "source": [
    "# Potencia\n",
    "5**2 #comando para fazer o cálculo de 5²"
   ]
  },
  {
   "cell_type": "code",
   "execution_count": 40,
   "id": "d7cb8637-9261-464e-b8d8-a1ef71ce9045",
   "metadata": {},
   "outputs": [
    {
     "data": {
      "text/plain": [
       "22026.465794806718"
      ]
     },
     "execution_count": 40,
     "metadata": {},
     "output_type": "execute_result"
    }
   ],
   "source": [
    "# Operações matemáticas com a bibliotéca math\n",
    "import math #importando o módulo math\n",
    "\n",
    "math.exp(10) #chamando a função exp() desse módulo com o argumento 10"
   ]
  },
  {
   "cell_type": "code",
   "execution_count": 41,
   "id": "254d5c83-3794-4020-977a-2dfe2284e8fe",
   "metadata": {},
   "outputs": [
    {
     "data": {
      "text/plain": [
       "1.0"
      ]
     },
     "execution_count": 41,
     "metadata": {},
     "output_type": "execute_result"
    }
   ],
   "source": [
    "math.exp(0) #chamando a função exp() desse módulo com o argumento 0"
   ]
  },
  {
   "cell_type": "code",
   "execution_count": 42,
   "id": "eb6d4faf-979e-4784-9f82-c145c6b11005",
   "metadata": {},
   "outputs": [
    {
     "data": {
      "text/plain": [
       "2.718281828459045"
      ]
     },
     "execution_count": 42,
     "metadata": {},
     "output_type": "execute_result"
    }
   ],
   "source": [
    "math.exp(a) #chamando a função exp() desse módulo com a variável \"a\""
   ]
  },
  {
   "cell_type": "code",
   "execution_count": 43,
   "id": "f1d7ad0c-f9e7-4298-8974-bf0543b68d13",
   "metadata": {},
   "outputs": [
    {
     "data": {
      "text/plain": [
       "4.5399929762484854e-05"
      ]
     },
     "execution_count": 43,
     "metadata": {},
     "output_type": "execute_result"
    }
   ],
   "source": [
    "math.exp(-10) #chamando a função exp() desse módulo com o argumento -10"
   ]
  },
  {
   "cell_type": "code",
   "execution_count": 44,
   "id": "ac40bf61-afec-42cb-b205-42d5b2408fb7",
   "metadata": {},
   "outputs": [
    {
     "data": {
      "text/plain": [
       "0.0"
      ]
     },
     "execution_count": 44,
     "metadata": {},
     "output_type": "execute_result"
    }
   ],
   "source": [
    "import math as mt #importando o módulo math e o está renomeando como \"mt\"\n",
    "mt.log(c) #chamando a função log() desse módulo com a variável \"c\""
   ]
  },
  {
   "cell_type": "code",
   "execution_count": 45,
   "id": "d46d0fa0-89ea-4d16-8fa7-ca76f2c7d93f",
   "metadata": {},
   "outputs": [
    {
     "data": {
      "text/plain": [
       "2.0"
      ]
     },
     "execution_count": 45,
     "metadata": {},
     "output_type": "execute_result"
    }
   ],
   "source": [
    "mt.log10(100) #chamando a função log() desse módulo com o argumento 100"
   ]
  },
  {
   "cell_type": "markdown",
   "id": "360e17cf-626e-417e-9810-38dd4d85eec3",
   "metadata": {},
   "source": [
    "## Listas"
   ]
  },
  {
   "cell_type": "code",
   "execution_count": 46,
   "id": "26a2346c-d50c-41c3-bae5-433e01038df5",
   "metadata": {},
   "outputs": [
    {
     "name": "stdout",
     "output_type": "stream",
     "text": [
      "[1, 2, 3]\n"
     ]
    }
   ],
   "source": [
    "myFirstList = [1,2,3] #criando uma lista chamada \"myFirstList\" com os elementos 1, 2 e 3\n",
    "print(myFirstList) #escrever a lista \"myFirstList\""
   ]
  },
  {
   "cell_type": "code",
   "execution_count": 47,
   "id": "a9e2709b-7159-4ccc-af28-31766a89f843",
   "metadata": {},
   "outputs": [
    {
     "name": "stdout",
     "output_type": "stream",
     "text": [
      "1\n",
      "3\n"
     ]
    }
   ],
   "source": [
    "# Acessando valores da lista pelo index\n",
    "print(myFirstList[0]) #escrever o primeiro elemento da lista \"myFirstList\"\n",
    "print(myFirstList[2]) #escrever o terceiro elemento da lista \"myFirstList\""
   ]
  },
  {
   "cell_type": "code",
   "execution_count": 48,
   "id": "8f6ba8fb-c411-455c-be60-18fe66ce3af6",
   "metadata": {},
   "outputs": [
    {
     "data": {
      "text/plain": [
       "False"
      ]
     },
     "execution_count": 48,
     "metadata": {},
     "output_type": "execute_result"
    }
   ],
   "source": [
    "myFirstList==a #comparando se a lista \"myFirstList\" é igual a variável \"a\""
   ]
  },
  {
   "cell_type": "code",
   "execution_count": 49,
   "id": "6ae4c402-e1d0-4cb6-9374-f7d8b6ad0099",
   "metadata": {},
   "outputs": [
    {
     "data": {
      "text/plain": [
       "True"
      ]
     },
     "execution_count": 49,
     "metadata": {},
     "output_type": "execute_result"
    }
   ],
   "source": [
    "myFirstList[0]==a #comparando se o primeiro elemento da lista \"myFirstList\" é igual a variável \"a\""
   ]
  },
  {
   "cell_type": "code",
   "execution_count": 50,
   "id": "0026c56a-7847-4aba-8a00-b4df63da6f8d",
   "metadata": {},
   "outputs": [
    {
     "name": "stdout",
     "output_type": "stream",
     "text": [
      "[1, 1, 'c']\n"
     ]
    }
   ],
   "source": [
    "mySecList = [1,a,'c'] #criando uma lista chamada \"mySecList\" com os elementos: o número 1, o valor da variável a e o texto (str) 'c'\n",
    "print(mySecList) #escrever a lista \"mySecList\""
   ]
  },
  {
   "cell_type": "code",
   "execution_count": 51,
   "id": "845d2a28-18e5-40a4-9d9b-47dad34a756c",
   "metadata": {},
   "outputs": [
    {
     "data": {
      "text/plain": [
       "list"
      ]
     },
     "execution_count": 51,
     "metadata": {},
     "output_type": "execute_result"
    }
   ],
   "source": [
    "type(mySecList) #serve para escrever o tipo de varável que é \"mySecList\""
   ]
  },
  {
   "cell_type": "code",
   "execution_count": 52,
   "id": "415a6ef1-39d4-492e-b2cd-e8736eea163c",
   "metadata": {},
   "outputs": [
    {
     "data": {
      "text/plain": [
       "str"
      ]
     },
     "execution_count": 52,
     "metadata": {},
     "output_type": "execute_result"
    }
   ],
   "source": [
    "type(mySecList[2]) #serve para escrever o tipo de varável que é o terceiro elemento da lista \"mySecList\""
   ]
  },
  {
   "cell_type": "code",
   "execution_count": 53,
   "id": "6e5723e5-b102-42ca-b0a9-e59a628cfb03",
   "metadata": {},
   "outputs": [
    {
     "data": {
      "text/plain": [
       "int"
      ]
     },
     "execution_count": 53,
     "metadata": {},
     "output_type": "execute_result"
    }
   ],
   "source": [
    "type(mySecList[1]) #serve para escrever o tipo de varável que é o segundo elemento da lista \"mySecList\""
   ]
  },
  {
   "cell_type": "code",
   "execution_count": 54,
   "id": "837fcaa8-2eb6-493b-9d7d-1a7d83d6b899",
   "metadata": {},
   "outputs": [
    {
     "data": {
      "text/plain": [
       "int"
      ]
     },
     "execution_count": 54,
     "metadata": {},
     "output_type": "execute_result"
    }
   ],
   "source": [
    "type(mySecList[0]) #serve para escrever o tipo de varável que é o primeiro elemento da lista \"mySecList\""
   ]
  },
  {
   "cell_type": "markdown",
   "id": "d87b8694-d849-4752-8eff-520df22694da",
   "metadata": {},
   "source": [
    "## Caminhos = path"
   ]
  },
  {
   "cell_type": "code",
   "execution_count": null,
   "id": "ffdf2c53-c299-4e43-b2b1-38a033c54606",
   "metadata": {},
   "outputs": [],
   "source": [
    "path = r\"C:\\Users\\Leonardo.Hoinaski\\Documents\\ENS410064_1\"\n",
    "print(path)"
   ]
  }
 ],
 "metadata": {
  "kernelspec": {
   "display_name": "Python 3 (ipykernel)",
   "language": "python",
   "name": "python3"
  },
  "language_info": {
   "codemirror_mode": {
    "name": "ipython",
    "version": 3
   },
   "file_extension": ".py",
   "mimetype": "text/x-python",
   "name": "python",
   "nbconvert_exporter": "python",
   "pygments_lexer": "ipython3",
   "version": "3.11.8"
  }
 },
 "nbformat": 4,
 "nbformat_minor": 5
}
