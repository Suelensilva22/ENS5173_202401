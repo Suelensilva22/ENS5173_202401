{
 "cells": [
  {
   "cell_type": "markdown",
   "id": "3bf2e9ed-f92a-4ac4-9240-a0e36336778d",
   "metadata": {},
   "source": [
    "# Aula 03/04/2024 - Comandos básicos no Python\n",
    "\n",
    "Nesta aula aprederemos a importar pacotes e os tipos de variáveis\\\n",
    "Desenvolvedor: Suelen Silva Oliveira"
   ]
  },
  {
   "cell_type": "markdown",
   "id": "317bc3e8-d160-4eb8-91f1-350d63292507",
   "metadata": {},
   "source": [
    "## Tipos de variáveis"
   ]
  },
  {
   "cell_type": "code",
   "execution_count": 11,
   "id": "fe0a645b-71f3-47b9-a339-86bf018b9865",
   "metadata": {},
   "outputs": [
    {
     "name": "stdout",
     "output_type": "stream",
     "text": [
      "a = 1\n",
      "<class 'int'>\n"
     ]
    }
   ],
   "source": [
    "# Criando variáveis inteiras\n",
    "a=1\n",
    "print('a = '+str(a))\n",
    "print(type(a))"
   ]
  },
  {
   "cell_type": "code",
   "execution_count": 13,
   "id": "72882b9c-6234-45bc-ad32-39adbc637eac",
   "metadata": {},
   "outputs": [
    {
     "name": "stdout",
     "output_type": "stream",
     "text": [
      "Salve o Corinthians\n",
      "<class 'str'>\n"
     ]
    }
   ],
   "source": [
    "# Criando variáveis string\n",
    "b='Salve o '\n",
    "c='Corinthians'\n",
    "print(b+c)\n",
    "print(type(b))\n",
    "\n",
    "      "
   ]
  },
  {
   "cell_type": "code",
   "execution_count": 14,
   "id": "7578d520-346b-41e7-a343-41018d073e12",
   "metadata": {},
   "outputs": [
    {
     "name": "stdout",
     "output_type": "stream",
     "text": [
      "666.666\n",
      "<class 'float'>\n"
     ]
    }
   ],
   "source": [
    "# Criando varuáveis float/double precision\n",
    "d = 666.666\n",
    "print(d)\n",
    "print(type(d))\n"
   ]
  }
 ],
 "metadata": {
  "kernelspec": {
   "display_name": "Python 3 (ipykernel)",
   "language": "python",
   "name": "python3"
  },
  "language_info": {
   "codemirror_mode": {
    "name": "ipython",
    "version": 3
   },
   "file_extension": ".py",
   "mimetype": "text/x-python",
   "name": "python",
   "nbconvert_exporter": "python",
   "pygments_lexer": "ipython3",
   "version": "3.11.8"
  }
 },
 "nbformat": 4,
 "nbformat_minor": 5
}
