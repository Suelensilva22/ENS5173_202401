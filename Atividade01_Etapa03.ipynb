{
 "cells": [
  {
   "cell_type": "markdown",
   "id": "9f072eb5-9252-4d35-b5a2-4a8259ccb9eb",
   "metadata": {},
   "source": [
    "# Etapa 3\n",
    "Gerar números aleatórios que representem a atividade industrial (ex: toneladas de cimento produzido). Utilize alguma indústria do estado para basear seus códigos. "
   ]
  },
  {
   "cell_type": "markdown",
   "id": "30557162-a0d4-4cd5-a20f-ac785af11042",
   "metadata": {},
   "source": [
    "## Indústria Têxtil\n",
    "\n",
    "A Lavanderia Pedrini, empresa de beneficiamento têxtil, responsável pelo tingimento e acabamento de malhas e tecidos, fundada em 1999, na cidade de  Brusque, Santa Catarina, conta atualmente uma equipe de aproximadamente 80 colaboradores e uma produção mensal de 300 t/mês.\n",
    "\n",
    "Referência: "
   ]
  },
  {
   "cell_type": "code",
   "execution_count": 22,
   "id": "4a6f8e10-417f-4c8b-8a7d-5333bd7da9c3",
   "metadata": {
    "scrolled": true
   },
   "outputs": [
    {
     "name": "stdout",
     "output_type": "stream",
     "text": [
      "Produção mensal de tecido no ano [121 385 362 442 409 498 408 295 154 137 359 147] toneladas\n"
     ]
    }
   ],
   "source": [
    "import numpy as np #importando a biblioteca NumPy com o nome np \n",
    "\n",
    "# Definindo a faixa de valores para a produção mensal de tecido (em toneladas)\n",
    "producao_minima = 100 #t/mês\n",
    "producao_maxima = 500 #t/mês\n",
    "\n",
    "# Gerando números aleatórios representando a produção mensal de tecido\n",
    "producao_mensal = np.random.randint(producao_minima, producao_maxima + 1, 12)\n",
    "\n",
    "#print(producao_mensal)\n",
    "print(\"Produção mensal de tecido no ano\", producao_mensal, \"toneladas\")"
   ]
  },
  {
   "cell_type": "code",
   "execution_count": null,
   "id": "436dfdfa-1710-4c94-8125-9db2da1c1658",
   "metadata": {},
   "outputs": [],
   "source": []
  }
 ],
 "metadata": {
  "kernelspec": {
   "display_name": "Python 3 (ipykernel)",
   "language": "python",
   "name": "python3"
  },
  "language_info": {
   "codemirror_mode": {
    "name": "ipython",
    "version": 3
   },
   "file_extension": ".py",
   "mimetype": "text/x-python",
   "name": "python",
   "nbconvert_exporter": "python",
   "pygments_lexer": "ipython3",
   "version": "3.11.8"
  }
 },
 "nbformat": 4,
 "nbformat_minor": 5
}
