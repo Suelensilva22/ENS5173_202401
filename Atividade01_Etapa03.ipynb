{
 "cells": [
  {
   "cell_type": "markdown",
   "id": "9f072eb5-9252-4d35-b5a2-4a8259ccb9eb",
   "metadata": {},
   "source": [
    "# Etapa 3\n",
    "Gerar números aleatórios que representem a atividade industrial (ex: toneladas de cimento produzido). Utilize alguma indústria do estado para basear seus códigos. "
   ]
  },
  {
   "cell_type": "markdown",
   "id": "30557162-a0d4-4cd5-a20f-ac785af11042",
   "metadata": {},
   "source": [
    "## Indústria Têxtil\n",
    "\n",
    "A Lavanderia Pedrini, empresa de beneficiamento têxtil, responsável pelo tingimento e acabamento de malhas e tecidos, fundada em 1999, na cidade de  Brusque, Santa Catarina, conta atualmente uma equipe de aproximadamente 80 colaboradores e uma produção mensal de 300 t/mês.\n",
    "\n",
    "Referência: "
   ]
  },
  {
   "cell_type": "code",
   "execution_count": 1,
   "id": "4a6f8e10-417f-4c8b-8a7d-5333bd7da9c3",
   "metadata": {
    "scrolled": true
   },
   "outputs": [
    {
     "ename": "NameError",
     "evalue": "name 'dmes' is not defined",
     "output_type": "error",
     "traceback": [
      "\u001b[1;31m---------------------------------------------------------------------------\u001b[0m",
      "\u001b[1;31mNameError\u001b[0m                                 Traceback (most recent call last)",
      "Cell \u001b[1;32mIn[1], line 7\u001b[0m\n\u001b[0;32m      3\u001b[0m \u001b[38;5;28;01mimport\u001b[39;00m \u001b[38;5;21;01mpandas\u001b[39;00m \u001b[38;5;28;01mas\u001b[39;00m \u001b[38;5;21;01mpd\u001b[39;00m \u001b[38;5;66;03m#importando a biblioteca Pandas com o nome pd \u001b[39;00m\n\u001b[0;32m      5\u001b[0m df \u001b[38;5;241m=\u001b[39m pd\u001b[38;5;241m.\u001b[39mDataFrame() \u001b[38;5;66;03m#criando um dataframe (quadro de dados) utilizando a biblioteca pandas chamado \"df\"\u001b[39;00m\n\u001b[1;32m----> 7\u001b[0m df[\u001b[38;5;124m'\u001b[39m\u001b[38;5;124mdatemes\u001b[39m\u001b[38;5;124m'\u001b[39m] \u001b[38;5;241m=\u001b[39m \u001b[43mdmes\u001b[49m \u001b[38;5;66;03m#monstrando um dataframe onde a variável dtime é atribuida à coluna \"datemes\" do \"df\"\u001b[39;00m\n\u001b[0;32m      9\u001b[0m df[\u001b[38;5;124m'\u001b[39m\u001b[38;5;124mrandom\u001b[39m\u001b[38;5;124m'\u001b[39m] \u001b[38;5;241m=\u001b[39m np\u001b[38;5;241m.\u001b[39mrandom\u001b[38;5;241m.\u001b[39mrand(df\u001b[38;5;241m.\u001b[39mshape[\u001b[38;5;241m0\u001b[39m]) \u001b[38;5;66;03m#criando uma nova coluna chamada \"random\" no \"df\" e preenche essa coluna com valores aleatórios gerados pela função \"np.random.rand()\" com base no número de linhas do DataFrame\u001b[39;00m\n\u001b[0;32m     11\u001b[0m \u001b[38;5;66;03m# Indexação\u001b[39;00m\n",
      "\u001b[1;31mNameError\u001b[0m: name 'dmes' is not defined"
     ]
    }
   ],
   "source": [
    "import numpy as np #importando a biblioteca NumPy com o nome np \n",
    "\n",
    "import pandas as pd #importando a biblioteca Pandas com o nome pd \n",
    "\n",
    "df = pd.DataFrame() #criando um dataframe (quadro de dados) utilizando a biblioteca pandas chamado \"df\"\n",
    "\n",
    "df['datemes'] = dmes #monstrando um dataframe onde a variável dtime é atribuida à coluna \"datemes\" do \"df\"\n",
    "\n",
    "df['random'] = np.random.rand(df.shape[0]) #criando uma nova coluna chamada \"random\" no \"df\" e preenche essa coluna com valores aleatórios gerados pela função \"np.random.rand()\" com base no número de linhas do DataFrame\n",
    "\n",
    "# Indexação\n",
    "df.iloc[:,0] #seleciona todas as linhas da primeira coluna do \"df\" utilizando indexação baseada em posição \n",
    "\n",
    "# Colocando o datetime como index\n",
    "df = df.set_index(df['datemes']) #redefine o índice do \"df\" para a coluna \"datemes\", ou seja, os valores dessa coluna se tornam os índices do DataFrame.\n",
    "df #o DataFrame \"df\" será exibido com a coluna \"datemes\" como seu índice\n",
    "\n",
    "\n",
    "\n",
    "# Definindo a faixa de valores para a produção mensal de tecido (em toneladas)\n",
    "producao_minima = 100 #t/mês\n",
    "producao_maxima = 500 #t/mês\n",
    "\n",
    "# Gerando números aleatórios representando a produção mensal de tecido\n",
    "producao_mensal = np.random.randint(producao_minima, producao_maxima + 1, 12)\n",
    "\n",
    "#print(producao_mensal)\n",
    "print(\"Produção mensal de tecido no ano\", producao_mensal, \"toneladas\")"
   ]
  },
  {
   "cell_type": "code",
   "execution_count": null,
   "id": "436dfdfa-1710-4c94-8125-9db2da1c1658",
   "metadata": {},
   "outputs": [],
   "source": []
  }
 ],
 "metadata": {
  "kernelspec": {
   "display_name": "Python 3 (ipykernel)",
   "language": "python",
   "name": "python3"
  },
  "language_info": {
   "codemirror_mode": {
    "name": "ipython",
    "version": 3
   },
   "file_extension": ".py",
   "mimetype": "text/x-python",
   "name": "python",
   "nbconvert_exporter": "python",
   "pygments_lexer": "ipython3",
   "version": "3.11.8"
  }
 },
 "nbformat": 4,
 "nbformat_minor": 5
}
