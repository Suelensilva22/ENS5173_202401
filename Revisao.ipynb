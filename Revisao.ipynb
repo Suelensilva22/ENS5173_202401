{
 "cells": [
  {
   "cell_type": "markdown",
   "id": "523f0bbd-b2e4-4069-8f31-0e3c5321fabd",
   "metadata": {},
   "source": [
    "# Aula 05 - Revisão"
   ]
  },
  {
   "cell_type": "markdown",
   "id": "cafdea42-8249-4228-b2c1-6a75df0468d4",
   "metadata": {},
   "source": [
    "## Tipos de variáveis"
   ]
  },
  {
   "cell_type": "code",
   "execution_count": 22,
   "id": "48b4171f-7f61-4237-bb23-98748cc67d89",
   "metadata": {},
   "outputs": [
    {
     "name": "stdout",
     "output_type": "stream",
     "text": [
      "Guilherme gente fina\n",
      "<class 'str'>\n"
     ]
    }
   ],
   "source": [
    "#Texto\n",
    "a = 'Guilherme '\n",
    "b = a + 'gente fina'\n",
    "print(b)\n",
    "print(type(b)) #tipo da variável"
   ]
  },
  {
   "cell_type": "code",
   "execution_count": 23,
   "id": "72063751-196a-4857-a416-c307b2edede5",
   "metadata": {},
   "outputs": [
    {
     "name": "stdout",
     "output_type": "stream",
     "text": [
      "11\n",
      "<class 'int'>\n"
     ]
    }
   ],
   "source": [
    "#Inteira\n",
    "c = 1\n",
    "d = c + 10\n",
    "print(d)\n",
    "print(type(d)) #tipo da variável"
   ]
  },
  {
   "cell_type": "code",
   "execution_count": 24,
   "id": "422d224a-e172-4644-b026-fe08c8b75ea6",
   "metadata": {},
   "outputs": [
    {
     "name": "stdout",
     "output_type": "stream",
     "text": [
      "valor de g = 21.0 e o valor de h = 110.25\n",
      "<class 'float'>\n",
      "valor de f = 10 do tipo = <class 'int'>\n"
     ]
    }
   ],
   "source": [
    "#Float\n",
    "f = 10.5\n",
    "g = f * 2\n",
    "h = f ** 2\n",
    "print('valor de g = '+str(g)+' e o valor de h = '+str(h))\n",
    "print(type(h))\n",
    "\n",
    "#Tranformando em int\n",
    "\n",
    "f = int(f)\n",
    "print('valor de f = '+str(f)+' do tipo = '+str(type(f)))"
   ]
  },
  {
   "cell_type": "markdown",
   "id": "cface07c-515a-449d-8f5d-c3d036486fc3",
   "metadata": {},
   "source": [
    "## Exemplo de dicionário"
   ]
  },
  {
   "cell_type": "code",
   "execution_count": 41,
   "id": "b0448472-bf72-4c1c-b4d0-767b22f704f4",
   "metadata": {},
   "outputs": [
    {
     "name": "stdout",
     "output_type": "stream",
     "text": [
      "['Guilherme', 'Flavia', 'Lucas']\n",
      "[3, 6, 6]\n",
      "<class 'list'>\n"
     ]
    }
   ],
   "source": [
    "dicionario = {\n",
    "    'Alunos': ['Guilherme', 'Flavia', 'Lucas'],\n",
    "    'Notas': [3, 6, 6]\n",
    "}\n",
    "print(dicionario['Alunos'])\n",
    "print(dicionario['Notas'])\n",
    "print(type(dicionario['Alunos']))"
   ]
  },
  {
   "cell_type": "markdown",
   "id": "91be3696-d1f6-49a1-8300-7a303cdef40a",
   "metadata": {},
   "source": [
    "## Loop - estrutura de repetição"
   ]
  },
  {
   "cell_type": "code",
   "execution_count": 43,
   "id": "a32602c1-3dc9-48b8-a229-53c1b5f687b2",
   "metadata": {},
   "outputs": [
    {
     "name": "stdout",
     "output_type": "stream",
     "text": [
      "Guilherme\n",
      "Flavia\n",
      "Lucas\n"
     ]
    }
   ],
   "source": [
    "#Treinando loop - estrutura de repetição\n",
    "for aluno in dicionario['Alunos']:\n",
    "    print(aluno)"
   ]
  },
  {
   "cell_type": "code",
   "execution_count": 50,
   "id": "18156ec8-641e-41a1-a936-2253816900d9",
   "metadata": {},
   "outputs": [
    {
     "name": "stdout",
     "output_type": "stream",
     "text": [
      "0 Guilherme nota = 3\n",
      "1 Flavia nota = 6\n",
      "2 Lucas nota = 6\n"
     ]
    }
   ],
   "source": [
    "#Treinando loop enumerando os dados\n",
    "for ii, aluno in enumerate(dicionario['Alunos']): #para cada valor de dicionarios faça:\n",
    "    print(str(ii)+' '+aluno+ ' nota = '+str(dicionario['Notas'][ii])) #imprima o enumerado, o aluno, e as notas conforme ordem ii"
   ]
  },
  {
   "cell_type": "code",
   "execution_count": 51,
   "id": "0294b44d-3059-4842-8932-1558e6226dc6",
   "metadata": {},
   "outputs": [
    {
     "name": "stdout",
     "output_type": "stream",
     "text": [
      "0 Guilherme nota = 3\n",
      "1 Flavia nota = 6\n",
      "2 Lucas nota = 6\n"
     ]
    }
   ],
   "source": [
    "#Treinando loop (outro tipo)\n",
    "for ii in range(0, len(dicionario['Alunos'])): #de 0 até o valor de dicionario alunos, \"len\" pega o tamanho do vetor\n",
    "    print(str(ii)+' '+str(dicionario['Alunos'][ii])+ ' nota = '+str(dicionario['Notas'][ii])) #imprima o enumerado, o aluno e as notas conforme ordem ii"
   ]
  },
  {
   "cell_type": "code",
   "execution_count": 60,
   "id": "0c7a1057-33ea-48ba-92bc-8fa32fc51600",
   "metadata": {},
   "outputs": [
    {
     "name": "stdout",
     "output_type": "stream",
     "text": [
      "0 Guilherme nota = 10.0\n",
      "1 Flavia nota = 6\n",
      "2 Lucas nota = 6\n"
     ]
    }
   ],
   "source": [
    "#Treinando loop com condição pelo nome do aluno\n",
    "for ii, aluno in enumerate(dicionario['Alunos']): #para cada valor de dicionarios faça:\n",
    "    if aluno == 'Guilherme': #condição pelo nome do aluno\n",
    "        print(str(ii)+' '+aluno+ ' nota = 10.0')\n",
    "    else:\n",
    "        print(str(ii)+' '+aluno+ ' nota = '+str(dicionario['Notas'][ii])) #imprima o enumerado, o aluno, e as notas conforme ordem ii"
   ]
  },
  {
   "cell_type": "code",
   "execution_count": 83,
   "id": "bcefa777-05cd-4733-bba5-a58db048d0c0",
   "metadata": {},
   "outputs": [
    {
     "name": "stdout",
     "output_type": "stream",
     "text": [
      "0 Guilherme nota = 9.5\n",
      "1 Flavia nota = 6\n",
      "2 Lucas nota = 10.0\n"
     ]
    }
   ],
   "source": [
    "#Treinando loop com condição pelo índice ii\n",
    "for ii, aluno in enumerate(dicionario['Alunos']): #para cada valor de dicionarios faça:\n",
    "    if ii == 2: #usando só o ii como índice, o sinal == é comparação\n",
    "        print(str(ii)+' '+aluno+ ' nota = 10.0')\n",
    "    else:\n",
    "        print(str(ii)+' '+aluno+ ' nota = '+str(dicionario['Notas'][ii])) #imprima o enumerado, o aluno, e as notas conforme ordem ii"
   ]
  },
  {
   "cell_type": "markdown",
   "id": "9640c6be-2b7f-44e6-aa2d-c1fe7bdde0fa",
   "metadata": {},
   "source": [
    "## Operações lógicas"
   ]
  },
  {
   "cell_type": "code",
   "execution_count": 69,
   "id": "893ea515-ccb5-4f6a-948d-9a5dfa89f956",
   "metadata": {},
   "outputs": [
    {
     "name": "stdout",
     "output_type": "stream",
     "text": [
      "False\n",
      "True\n",
      " \n",
      "False\n",
      "False\n",
      "True\n",
      "True\n",
      " \n",
      "True\n",
      "False\n",
      " \n",
      "<class 'bool'>\n"
     ]
    }
   ],
   "source": [
    "a = 1\n",
    "b = 3\n",
    "c = 1\n",
    "\n",
    "# == é comparação de igualdade\n",
    "print(a==b) #Operação lógica, igual a?\n",
    "print(a==c) \n",
    "print(' ')\n",
    "\n",
    "# > e <, <= e >= é comparação de maior e menor e igual\n",
    "print(a>c)\n",
    "print(a<c)\n",
    "print(a>=c)\n",
    "print(a<=c)\n",
    "print(' ')\n",
    "\n",
    "# != é comparação de diferença\n",
    "print(a!=b)\n",
    "print(a!=c)\n",
    "print(' ')\n",
    "\n",
    "# Tipo de variável \"Booleana\": é sempre true ou false\n",
    "opTF = a!=c #recebe um text lógico = opTF\n",
    "print(type(opTF))\n",
    "\n",
    "opT = True #sempre com T maiúsculo\n",
    "opF = False #sempre com F maiúsculo"
   ]
  },
  {
   "cell_type": "markdown",
   "id": "5c1e871d-928a-42e7-8802-5c3812d8a2a5",
   "metadata": {},
   "source": [
    "# Utilizando operações lógicas e condição com loop"
   ]
  },
  {
   "cell_type": "code",
   "execution_count": 73,
   "id": "0e0b9bba-b4d8-4c8f-b483-886fecda0ff3",
   "metadata": {},
   "outputs": [
    {
     "name": "stdout",
     "output_type": "stream",
     "text": [
      "0 Guilherme nota = 10.0\n",
      "1 Flavia nota = 6\n",
      "2 Lucas nota = 6\n"
     ]
    }
   ],
   "source": [
    "#Treinando loop com condição pelo nome do aluno\n",
    "for ii, aluno in enumerate(dicionario['Alunos']): #para cada valor de dicionarios enumerado faça:\n",
    "    if aluno == 'Guilherme'and (dicionario['Notas'][ii]<=9): #condição pelo nome do aluno e (and) pela nota, se o aluno for guilherme e sua nota for menor ou igual a nove, faça:\n",
    "        print(str(ii)+' '+aluno+ ' nota = 10.0')\n",
    "    else: #se não for o guilherme ou a nota dele for maior que nove, faça:\n",
    "        print(str(ii)+' '+aluno+ ' nota = '+str(dicionario['Notas'][ii])) #imprima o enumerado, o aluno, e as notas conforme ordem ii"
   ]
  },
  {
   "cell_type": "code",
   "execution_count": 85,
   "id": "3fc44288-63a5-4f10-980e-1551be7c09af",
   "metadata": {},
   "outputs": [
    {
     "name": "stdout",
     "output_type": "stream",
     "text": [
      "0 Guilherme nota = 9.5\n",
      "1 Flavia nota = 6\n",
      "2 Lucas nota = 6\n"
     ]
    }
   ],
   "source": [
    "#Treinando loop com condição pelo nome do aluno (mudando a nota do Guilherme no dicionario)\n",
    "dicionario = {\n",
    "    'Alunos': ['Guilherme', 'Flavia', 'Lucas'],\n",
    "    'Notas': [9.5, 6, 6]\n",
    "}\n",
    "for ii, aluno in enumerate(dicionario['Alunos']): #para cada valor de dicionarios enumerado faça:\n",
    "    if aluno == 'Guilherme'and (dicionario['Notas'][ii]<=9): #condição pelo nome do aluno e (and) pela nota, se o aluno for guilherme e sua nota for menor ou igual a nove, faça:\n",
    "        print(str(ii)+' '+aluno+ ' nota = 10.0')\n",
    "    else: #se não for o guilherme ou a nota dele for maior que nove, faça:\n",
    "        print(str(ii)+' '+aluno+ ' nota = '+str(dicionario['Notas'][ii])) #imprima o enumerado, o aluno, e as notas conforme ordem ii"
   ]
  },
  {
   "cell_type": "markdown",
   "id": "f79531d7-3b9b-48f9-89ea-e6d01838f9d4",
   "metadata": {},
   "source": [
    "## Matrizes"
   ]
  },
  {
   "cell_type": "code",
   "execution_count": 96,
   "id": "fab7dcb8-1675-4df5-82fa-ac633a4f2239",
   "metadata": {},
   "outputs": [
    {
     "name": "stdout",
     "output_type": "stream",
     "text": [
      "['Guilherme' 'Flavia' 'Lucas']\n",
      "<class 'numpy.ndarray'>\n",
      " \n",
      "[False False  True]\n",
      " \n"
     ]
    }
   ],
   "source": [
    "#Para matrizes utilizando numpy, convertento lista para numpy (np.array)\n",
    "import numpy as np\n",
    "mat = np.array(dicionario['Alunos']) #conversão\n",
    "print(mat)\n",
    "print(type(mat))\n",
    "print(' ')\n",
    "\n",
    "mat2 = np.array(mat=='Lucas')\n",
    "print(mat2)\n",
    "print(' ')"
   ]
  },
  {
   "cell_type": "code",
   "execution_count": 97,
   "id": "82765a82-c003-4e23-8749-cadb2e08e815",
   "metadata": {},
   "outputs": [
    {
     "name": "stdout",
     "output_type": "stream",
     "text": [
      "(array([2], dtype=int64),)\n",
      " \n"
     ]
    },
    {
     "name": "stderr",
     "output_type": "stream",
     "text": [
      "C:\\Users\\Suelen Silva\\AppData\\Local\\Temp\\ipykernel_8796\\3663999573.py:5: DeprecationWarning: Conversion of an array with ndim > 0 to a scalar is deprecated, and will error in future. Ensure you extract a single element from your array before performing this operation. (Deprecated NumPy 1.25.)\n",
      "  dicionario['Notas'][int(np.where(mat2)[0])] = 9.5\n"
     ]
    }
   ],
   "source": [
    "#Local da matriz com valor verdadeiro\n",
    "print(np.where(mat2))\n",
    "print(' ')\n",
    "\n",
    "dicionario['Notas'][int(np.where(mat2)[0])] = 9.5\n",
    "\n",
    "#dicionario['Notas'][dicionario['Alunos']=='Lucas'] = 9.5 #se quiser mudar só um número"
   ]
  },
  {
   "cell_type": "code",
   "execution_count": 100,
   "id": "accc8cbf-9915-4a26-9791-797116b85d01",
   "metadata": {},
   "outputs": [
    {
     "name": "stdout",
     "output_type": "stream",
     "text": [
      "[0.42302716 0.59490107 0.21096351 0.25413261 0.74520898 0.38273863\n",
      " 0.35250137 0.16391596 0.79982535 0.70585849 0.70513689 0.1031634\n",
      " 0.30670482 0.46463436 0.60992812 0.40067308 0.90041832 0.88105348\n",
      " 0.53324972 0.50602444 0.34895512 0.92904591 0.54847688 0.23846924\n",
      " 0.32571316 0.99157205 0.9291121  0.50006847 0.91741627 0.32860888\n",
      " 0.46759486 0.41186068 0.66278005 0.60927099 0.88813809 0.85224644\n",
      " 0.24573051 0.21234489 0.07552278 0.72116219 0.47690361 0.5502561\n",
      " 0.11472999 0.5734854  0.96647679 0.44993975 0.11574251 0.10645512\n",
      " 0.51533085 0.13812033 0.18140921 0.98604959 0.51262629 0.29888418\n",
      " 0.0730973  0.80229815 0.53149038 0.99242315 0.51502573 0.8015924\n",
      " 0.95792406 0.80784397 0.5286066  0.62978384 0.23528895 0.02869229\n",
      " 0.1842413  0.27439665 0.14961876 0.70739213 0.54665335 0.41553839\n",
      " 0.32987004 0.34985153 0.14179648 0.11551537 0.75604224 0.40819155\n",
      " 0.84485481 0.20674971 0.65321823 0.17651247 0.59351337 0.95344615\n",
      " 0.65327003 0.94979773 0.08253208 0.68573908 0.61195678 0.70594234\n",
      " 0.67778381 0.4690103  0.94775828 0.65223309 0.96042322 0.11689402\n",
      " 0.89732877 0.6276588  0.18344615 0.43244503]\n",
      " \n"
     ]
    }
   ],
   "source": [
    "#Matriz numpy\n",
    "vec = np.random.rand(100)\n",
    "print(vec)\n",
    "print(' ')"
   ]
  },
  {
   "cell_type": "code",
   "execution_count": 103,
   "id": "60a63087-65d8-4033-802b-eb73fe0dfc45",
   "metadata": {},
   "outputs": [
    {
     "name": "stdout",
     "output_type": "stream",
     "text": [
      "[0.39908861 0.53154778 0.20787514 0.24876598 0.62733429 0.3648413\n",
      " 0.3384286  0.16245966 0.65730296 0.60414096 0.60370312 0.10279859\n",
      " 0.29735283 0.43325025 0.54199443 0.38022375 0.70582485 0.69714657\n",
      " 0.48672305 0.46594625 0.33529288 0.71808667 0.4980843  0.23402487\n",
      " 0.31455188 0.74256205 0.71811424 0.46132287 0.71318658 0.31715363\n",
      " 0.43563231 0.38970855 0.57721227 0.54154158 0.7003577  0.68365644\n",
      " 0.24087273 0.20919601 0.07537944 0.61332063 0.44307916 0.49939952\n",
      " 0.11422857 0.51633271 0.73311366 0.42132995 0.11522774 0.10605434\n",
      " 0.47311462 0.13724701 0.17943868 0.74052545 0.47103845 0.29021743\n",
      " 0.07296732 0.65859892 0.48539831 0.74287379 0.47288068 0.65822958\n",
      " 0.72977939 0.66148633 0.4832215  0.55550492 0.23101812 0.02868442\n",
      " 0.18217766 0.26766252 0.14850977 0.60507005 0.49673364 0.39280756\n",
      " 0.31828521 0.33608625 0.14085185 0.11500362 0.63348373 0.3866074\n",
      " 0.68008219 0.20384121 0.5710179  0.17469629 0.53057348 0.72801033\n",
      " 0.57105167 0.72655708 0.08234507 0.59176386 0.54339014 0.60419182\n",
      " 0.58677328 0.43676886 0.72574005 0.57037524 0.73075973 0.11636377\n",
      " 0.70446116 0.55407499 0.18140895 0.4069312 ]\n"
     ]
    }
   ],
   "source": [
    "#Fazendo seno de vec\n",
    "vec = np.sin(vec) #radianos\n",
    "print(vec)"
   ]
  },
  {
   "cell_type": "code",
   "execution_count": 110,
   "id": "858f1356-6404-4443-8109-069e519fae8e",
   "metadata": {},
   "outputs": [
    {
     "name": "stdout",
     "output_type": "stream",
     "text": [
      "2024-01-01\n",
      "2024-01-02\n",
      "2024-01-03\n",
      "2024-01-04\n",
      "2024-01-05\n",
      "2024-01-06\n",
      "2024-01-07\n",
      "2024-01-08\n",
      "2024-01-09\n",
      "2024-01-10\n",
      "2024-01-11\n",
      "2024-01-12\n",
      "2024-01-13\n",
      "2024-01-14\n",
      "2024-01-15\n",
      "2024-01-16\n",
      "2024-01-17\n",
      "2024-01-18\n",
      "2024-01-19\n",
      "2024-01-20\n",
      "2024-01-21\n",
      "2024-01-22\n",
      "2024-01-23\n",
      "2024-01-24\n",
      "2024-01-25\n",
      "2024-01-26\n",
      "2024-01-27\n",
      "2024-01-28\n",
      "2024-01-29\n",
      "2024-01-30\n",
      "2024-01-31\n",
      "2024-02-01\n",
      "2024-02-02\n",
      "2024-02-03\n",
      "2024-02-04\n",
      "2024-02-05\n",
      "2024-02-06\n",
      "2024-02-07\n",
      "2024-02-08\n",
      "2024-02-09\n",
      "2024-02-10\n",
      "2024-02-11\n",
      "2024-02-12\n",
      "2024-02-13\n",
      "2024-02-14\n",
      "2024-02-15\n",
      "2024-02-16\n",
      "2024-02-17\n",
      "2024-02-18\n",
      "2024-02-19\n",
      "2024-02-20\n",
      "2024-02-21\n",
      "2024-02-22\n",
      "2024-02-23\n",
      "2024-02-24\n",
      "2024-02-25\n",
      "2024-02-26\n",
      "2024-02-27\n",
      "2024-02-28\n",
      "2024-02-29\n",
      "2024-03-01\n",
      "2024-03-02\n",
      "2024-03-03\n",
      "2024-03-04\n",
      "2024-03-05\n",
      "2024-03-06\n",
      "2024-03-07\n",
      "2024-03-08\n",
      "2024-03-09\n",
      "2024-03-10\n",
      "2024-03-11\n",
      "2024-03-12\n",
      "2024-03-13\n",
      "2024-03-14\n",
      "2024-03-15\n",
      "2024-03-16\n",
      "2024-03-17\n",
      "2024-03-18\n",
      "2024-03-19\n",
      "2024-03-20\n",
      "2024-03-21\n",
      "2024-03-22\n",
      "2024-03-23\n",
      "2024-03-24\n",
      "2024-03-25\n",
      "2024-03-26\n",
      "2024-03-27\n",
      "2024-03-28\n",
      "2024-03-29\n",
      "2024-03-30\n",
      "2024-03-31\n",
      "2024-04-01\n",
      "2024-04-02\n",
      "2024-04-03\n",
      "2024-04-04\n",
      "2024-04-05\n",
      "2024-04-06\n",
      "2024-04-07\n",
      "2024-04-08\n",
      "2024-04-09\n"
     ]
    }
   ],
   "source": [
    "#Criando vetor de datas para criar uma planilha\n",
    "from datetime import datetime, timedelta #Datetime\n",
    "\n",
    "#Data inicial\n",
    "start_date = datetime(2024, 1, 1) #ano, mês, dia\n",
    "\n",
    "#Lista para armazenas datas\n",
    "date_vector = []\n",
    "\n",
    "#Gerar datas para o tamanho de vec\n",
    "for i in range(0,vec.shape[0]):\n",
    "    date_vector.append(start_date + timedelta(days=i))\n",
    "\n",
    "#Exibir os dados\n",
    "for date in date_vector:\n",
    "    print(date.strftime('%Y-%m-%d'))"
   ]
  },
  {
   "cell_type": "code",
   "execution_count": 117,
   "id": "30b50098-7193-467e-91d7-1d27dc0ac3d7",
   "metadata": {},
   "outputs": [
    {
     "ename": "NameError",
     "evalue": "name 'vec2' is not defined",
     "output_type": "error",
     "traceback": [
      "\u001b[1;31m---------------------------------------------------------------------------\u001b[0m",
      "\u001b[1;31mNameError\u001b[0m                                 Traceback (most recent call last)",
      "Cell \u001b[1;32mIn[117], line 6\u001b[0m\n\u001b[0;32m      4\u001b[0m df[\u001b[38;5;124m'\u001b[39m\u001b[38;5;124mDatas\u001b[39m\u001b[38;5;124m'\u001b[39m] \u001b[38;5;241m=\u001b[39m date_vector\n\u001b[0;32m      5\u001b[0m df[\u001b[38;5;124m'\u001b[39m\u001b[38;5;124mvec\u001b[39m\u001b[38;5;124m'\u001b[39m] \u001b[38;5;241m=\u001b[39m vec\n\u001b[1;32m----> 6\u001b[0m df[\u001b[38;5;124m'\u001b[39m\u001b[38;5;124mvec2\u001b[39m\u001b[38;5;124m'\u001b[39m] \u001b[38;5;241m=\u001b[39m \u001b[43mvec2\u001b[49m \u001b[38;5;66;03m#ver esse vec2!!!!!!!!!!!!!!!!!\u001b[39;00m\n\u001b[0;32m      7\u001b[0m \u001b[38;5;28mprint\u001b[39m(df)\n\u001b[0;32m      8\u001b[0m \u001b[38;5;66;03m#r'C:\\Users\\Suelen Silva\\Documents\\CONTROLE_24.1\\ENS5173_202401\\tabelas'\u001b[39;00m\n",
      "\u001b[1;31mNameError\u001b[0m: name 'vec2' is not defined"
     ]
    }
   ],
   "source": [
    "#Quero salvar esses dados no meu computador, criar pasta tabelas e adicionar no gitignore, depois atualizar no github\n",
    "import pandas as pd\n",
    "df = pd.DataFrame() #criando dataframe e salvando\n",
    "df['Datas'] = date_vector\n",
    "df['vec'] = vec\n",
    "df['vec2'] = vec2 #ver esse vec2!!!!!!!!!!!!!!!!!\n",
    "print(df)"
   ]
  },
  {
   "cell_type": "code",
   "execution_count": 115,
   "id": "8409bb59-d6cd-4dae-8deb-a5c28d614c94",
   "metadata": {},
   "outputs": [
    {
     "name": "stdout",
     "output_type": "stream",
     "text": [
      "        Datas       vec\n",
      "0  2024-01-01  0.399089\n",
      "1  2024-01-02  0.531548\n",
      "2  2024-01-03  0.207875\n",
      "3  2024-01-04  0.248766\n",
      "4  2024-01-05  0.627334\n",
      "..        ...       ...\n",
      "95 2024-04-05  0.116364\n",
      "96 2024-04-06  0.704461\n",
      "97 2024-04-07  0.554075\n",
      "98 2024-04-08  0.181409\n",
      "99 2024-04-09  0.406931\n",
      "\n",
      "[100 rows x 2 columns]\n"
     ]
    }
   ],
   "source": [
    "print(df)"
   ]
  },
  {
   "cell_type": "code",
   "execution_count": 122,
   "id": "97a7b70e-31e5-4a52-b118-c73438ac8565",
   "metadata": {},
   "outputs": [],
   "source": [
    "#salvando na pasta do computador\n",
    "pasta = r'C:\\Users\\Suelen Silva\\Documents\\CONTROLE_24.1\\ENS5173_202401\\tabelas'\n",
    "df.to_csv(pasta + '/planilha.csv')"
   ]
  },
  {
   "cell_type": "code",
   "execution_count": null,
   "id": "e8a89e4c-dfe4-4212-bdcd-ed895e1f531b",
   "metadata": {},
   "outputs": [],
   "source": []
  }
 ],
 "metadata": {
  "kernelspec": {
   "display_name": "Python 3 (ipykernel)",
   "language": "python",
   "name": "python3"
  },
  "language_info": {
   "codemirror_mode": {
    "name": "ipython",
    "version": 3
   },
   "file_extension": ".py",
   "mimetype": "text/x-python",
   "name": "python",
   "nbconvert_exporter": "python",
   "pygments_lexer": "ipython3",
   "version": "3.11.8"
  }
 },
 "nbformat": 4,
 "nbformat_minor": 5
}
