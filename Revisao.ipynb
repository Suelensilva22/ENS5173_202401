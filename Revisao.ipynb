{
 "cells": [
  {
   "cell_type": "markdown",
   "id": "523f0bbd-b2e4-4069-8f31-0e3c5321fabd",
   "metadata": {},
   "source": [
    "# Aula 05 - Revisão"
   ]
  },
  {
   "cell_type": "markdown",
   "id": "cafdea42-8249-4228-b2c1-6a75df0468d4",
   "metadata": {},
   "source": [
    "## Tipos de variáveis"
   ]
  },
  {
   "cell_type": "code",
   "execution_count": 22,
   "id": "48b4171f-7f61-4237-bb23-98748cc67d89",
   "metadata": {},
   "outputs": [
    {
     "name": "stdout",
     "output_type": "stream",
     "text": [
      "Guilherme gente fina\n",
      "<class 'str'>\n"
     ]
    }
   ],
   "source": [
    "#Texto\n",
    "a = 'Guilherme '\n",
    "b = a + 'gente fina'\n",
    "print(b)\n",
    "print(type(b)) #tipo da variável"
   ]
  },
  {
   "cell_type": "code",
   "execution_count": 23,
   "id": "72063751-196a-4857-a416-c307b2edede5",
   "metadata": {},
   "outputs": [
    {
     "name": "stdout",
     "output_type": "stream",
     "text": [
      "11\n",
      "<class 'int'>\n"
     ]
    }
   ],
   "source": [
    "#Inteira\n",
    "c = 1\n",
    "d = c + 10\n",
    "print(d)\n",
    "print(type(d)) #tipo da variável"
   ]
  },
  {
   "cell_type": "code",
   "execution_count": 24,
   "id": "422d224a-e172-4644-b026-fe08c8b75ea6",
   "metadata": {},
   "outputs": [
    {
     "name": "stdout",
     "output_type": "stream",
     "text": [
      "valor de g = 21.0 e o valor de h = 110.25\n",
      "<class 'float'>\n",
      "valor de f = 10 do tipo = <class 'int'>\n"
     ]
    }
   ],
   "source": [
    "#Float\n",
    "f = 10.5\n",
    "g = f * 2\n",
    "h = f ** 2\n",
    "print('valor de g = '+str(g)+' e o valor de h = '+str(h))\n",
    "print(type(h))\n",
    "\n",
    "#Tranformando em int\n",
    "\n",
    "f = int(f)\n",
    "print('valor de f = '+str(f)+' do tipo = '+str(type(f)))"
   ]
  },
  {
   "cell_type": "markdown",
   "id": "cface07c-515a-449d-8f5d-c3d036486fc3",
   "metadata": {},
   "source": [
    "## Exemplo de dicionário"
   ]
  },
  {
   "cell_type": "code",
   "execution_count": 41,
   "id": "b0448472-bf72-4c1c-b4d0-767b22f704f4",
   "metadata": {},
   "outputs": [
    {
     "name": "stdout",
     "output_type": "stream",
     "text": [
      "['Guilherme', 'Flavia', 'Lucas']\n",
      "[3, 6, 6]\n",
      "<class 'list'>\n"
     ]
    }
   ],
   "source": [
    "dicionario = {\n",
    "    'Alunos': ['Guilherme', 'Flavia', 'Lucas'],\n",
    "    'Notas': [3, 6, 6]\n",
    "}\n",
    "print(dicionario['Alunos'])\n",
    "print(dicionario['Notas'])\n",
    "print(type(dicionario['Alunos']))"
   ]
  },
  {
   "cell_type": "markdown",
   "id": "91be3696-d1f6-49a1-8300-7a303cdef40a",
   "metadata": {},
   "source": [
    "## Loop - estrutura de repetição"
   ]
  },
  {
   "cell_type": "code",
   "execution_count": 43,
   "id": "a32602c1-3dc9-48b8-a229-53c1b5f687b2",
   "metadata": {},
   "outputs": [
    {
     "name": "stdout",
     "output_type": "stream",
     "text": [
      "Guilherme\n",
      "Flavia\n",
      "Lucas\n"
     ]
    }
   ],
   "source": [
    "#Treinando loop - estrutura de repetição\n",
    "for aluno in dicionario['Alunos']:\n",
    "    print(aluno)"
   ]
  },
  {
   "cell_type": "code",
   "execution_count": 50,
   "id": "18156ec8-641e-41a1-a936-2253816900d9",
   "metadata": {},
   "outputs": [
    {
     "name": "stdout",
     "output_type": "stream",
     "text": [
      "0 Guilherme nota = 3\n",
      "1 Flavia nota = 6\n",
      "2 Lucas nota = 6\n"
     ]
    }
   ],
   "source": [
    "#Treinando loop enumerando os dados\n",
    "for ii, aluno in enumerate(dicionario['Alunos']): #para cada valor de dicionarios faça:\n",
    "    print(str(ii)+' '+aluno+ ' nota = '+str(dicionario['Notas'][ii])) #imprima o enumerado, o aluno, e as notas conforme ordem ii"
   ]
  },
  {
   "cell_type": "code",
   "execution_count": 51,
   "id": "0294b44d-3059-4842-8932-1558e6226dc6",
   "metadata": {},
   "outputs": [
    {
     "name": "stdout",
     "output_type": "stream",
     "text": [
      "0 Guilherme nota = 3\n",
      "1 Flavia nota = 6\n",
      "2 Lucas nota = 6\n"
     ]
    }
   ],
   "source": [
    "#Treinando loop (outro tipo)\n",
    "for ii in range(0, len(dicionario['Alunos'])): #de 0 até o valor de dicionario alunos, \"len\" pega o tamanho do vetor\n",
    "    print(str(ii)+' '+str(dicionario['Alunos'][ii])+ ' nota = '+str(dicionario['Notas'][ii])) #imprima o enumerado, o aluno e as notas conforme ordem ii"
   ]
  },
  {
   "cell_type": "code",
   "execution_count": 60,
   "id": "0c7a1057-33ea-48ba-92bc-8fa32fc51600",
   "metadata": {},
   "outputs": [
    {
     "name": "stdout",
     "output_type": "stream",
     "text": [
      "0 Guilherme nota = 10.0\n",
      "1 Flavia nota = 6\n",
      "2 Lucas nota = 6\n"
     ]
    }
   ],
   "source": [
    "#Treinando loop com condição pelo nome do aluno\n",
    "for ii, aluno in enumerate(dicionario['Alunos']): #para cada valor de dicionarios faça:\n",
    "    if aluno == 'Guilherme': #condição pelo nome do aluno\n",
    "        print(str(ii)+' '+aluno+ ' nota = 10.0')\n",
    "    else:\n",
    "        print(str(ii)+' '+aluno+ ' nota = '+str(dicionario['Notas'][ii])) #imprima o enumerado, o aluno, e as notas conforme ordem ii"
   ]
  },
  {
   "cell_type": "code",
   "execution_count": 83,
   "id": "bcefa777-05cd-4733-bba5-a58db048d0c0",
   "metadata": {},
   "outputs": [
    {
     "name": "stdout",
     "output_type": "stream",
     "text": [
      "0 Guilherme nota = 9.5\n",
      "1 Flavia nota = 6\n",
      "2 Lucas nota = 10.0\n"
     ]
    }
   ],
   "source": [
    "#Treinando loop com condição pelo índice ii\n",
    "for ii, aluno in enumerate(dicionario['Alunos']): #para cada valor de dicionarios faça:\n",
    "    if ii == 2: #usando só o ii como índice, o sinal == é comparação\n",
    "        print(str(ii)+' '+aluno+ ' nota = 10.0')\n",
    "    else:\n",
    "        print(str(ii)+' '+aluno+ ' nota = '+str(dicionario['Notas'][ii])) #imprima o enumerado, o aluno, e as notas conforme ordem ii"
   ]
  },
  {
   "cell_type": "markdown",
   "id": "9640c6be-2b7f-44e6-aa2d-c1fe7bdde0fa",
   "metadata": {},
   "source": [
    "## Operações lógicas"
   ]
  },
  {
   "cell_type": "code",
   "execution_count": 69,
   "id": "893ea515-ccb5-4f6a-948d-9a5dfa89f956",
   "metadata": {},
   "outputs": [
    {
     "name": "stdout",
     "output_type": "stream",
     "text": [
      "False\n",
      "True\n",
      " \n",
      "False\n",
      "False\n",
      "True\n",
      "True\n",
      " \n",
      "True\n",
      "False\n",
      " \n",
      "<class 'bool'>\n"
     ]
    }
   ],
   "source": [
    "a = 1\n",
    "b = 3\n",
    "c = 1\n",
    "\n",
    "# == é comparação de igualdade\n",
    "print(a==b) #Operação lógica, igual a?\n",
    "print(a==c) \n",
    "print(' ')\n",
    "\n",
    "# > e <, <= e >= é comparação de maior e menor e igual\n",
    "print(a>c)\n",
    "print(a<c)\n",
    "print(a>=c)\n",
    "print(a<=c)\n",
    "print(' ')\n",
    "\n",
    "# != é comparação de diferença\n",
    "print(a!=b)\n",
    "print(a!=c)\n",
    "print(' ')\n",
    "\n",
    "# Tipo de variável \"Booleana\": é sempre true ou false\n",
    "opTF = a!=c #recebe um text lógico = opTF\n",
    "print(type(opTF))\n",
    "\n",
    "opT = True #sempre com T maiúsculo\n",
    "opF = False #sempre com F maiúsculo"
   ]
  },
  {
   "cell_type": "markdown",
   "id": "5c1e871d-928a-42e7-8802-5c3812d8a2a5",
   "metadata": {},
   "source": [
    "# Utilizando operações lógicas e condição com loop"
   ]
  },
  {
   "cell_type": "code",
   "execution_count": 73,
   "id": "0e0b9bba-b4d8-4c8f-b483-886fecda0ff3",
   "metadata": {},
   "outputs": [
    {
     "name": "stdout",
     "output_type": "stream",
     "text": [
      "0 Guilherme nota = 10.0\n",
      "1 Flavia nota = 6\n",
      "2 Lucas nota = 6\n"
     ]
    }
   ],
   "source": [
    "#Treinando loop com condição pelo nome do aluno\n",
    "for ii, aluno in enumerate(dicionario['Alunos']): #para cada valor de dicionarios enumerado faça:\n",
    "    if aluno == 'Guilherme'and (dicionario['Notas'][ii]<=9): #condição pelo nome do aluno e (and) pela nota, se o aluno for guilherme e sua nota for menor ou igual a nove, faça:\n",
    "        print(str(ii)+' '+aluno+ ' nota = 10.0')\n",
    "    else: #se não for o guilherme ou a nota dele for maior que nove, faça:\n",
    "        print(str(ii)+' '+aluno+ ' nota = '+str(dicionario['Notas'][ii])) #imprima o enumerado, o aluno, e as notas conforme ordem ii"
   ]
  },
  {
   "cell_type": "code",
   "execution_count": 85,
   "id": "3fc44288-63a5-4f10-980e-1551be7c09af",
   "metadata": {},
   "outputs": [
    {
     "name": "stdout",
     "output_type": "stream",
     "text": [
      "0 Guilherme nota = 9.5\n",
      "1 Flavia nota = 6\n",
      "2 Lucas nota = 6\n"
     ]
    }
   ],
   "source": [
    "#Treinando loop com condição pelo nome do aluno (mudando a nota do Guilherme no dicionario)\n",
    "dicionario = {\n",
    "    'Alunos': ['Guilherme', 'Flavia', 'Lucas'],\n",
    "    'Notas': [9.5, 6, 6]\n",
    "}\n",
    "for ii, aluno in enumerate(dicionario['Alunos']): #para cada valor de dicionarios enumerado faça:\n",
    "    if aluno == 'Guilherme'and (dicionario['Notas'][ii]<=9): #condição pelo nome do aluno e (and) pela nota, se o aluno for guilherme e sua nota for menor ou igual a nove, faça:\n",
    "        print(str(ii)+' '+aluno+ ' nota = 10.0')\n",
    "    else: #se não for o guilherme ou a nota dele for maior que nove, faça:\n",
    "        print(str(ii)+' '+aluno+ ' nota = '+str(dicionario['Notas'][ii])) #imprima o enumerado, o aluno, e as notas conforme ordem ii"
   ]
  },
  {
   "cell_type": "markdown",
   "id": "f79531d7-3b9b-48f9-89ea-e6d01838f9d4",
   "metadata": {},
   "source": [
    "## Matrizes"
   ]
  },
  {
   "cell_type": "code",
   "execution_count": 96,
   "id": "fab7dcb8-1675-4df5-82fa-ac633a4f2239",
   "metadata": {},
   "outputs": [
    {
     "name": "stdout",
     "output_type": "stream",
     "text": [
      "['Guilherme' 'Flavia' 'Lucas']\n",
      "<class 'numpy.ndarray'>\n",
      " \n",
      "[False False  True]\n",
      " \n"
     ]
    }
   ],
   "source": [
    "#Para matrizes utilizando numpy, convertento lista para numpy (np.array)\n",
    "import numpy as np\n",
    "mat = np.array(dicionario['Alunos']) #conversão\n",
    "print(mat)\n",
    "print(type(mat))\n",
    "print(' ')\n",
    "\n",
    "mat2 = np.array(mat=='Lucas')\n",
    "print(mat2)\n",
    "print(' ')"
   ]
  },
  {
   "cell_type": "code",
   "execution_count": 97,
   "id": "82765a82-c003-4e23-8749-cadb2e08e815",
   "metadata": {},
   "outputs": [
    {
     "name": "stdout",
     "output_type": "stream",
     "text": [
      "(array([2], dtype=int64),)\n",
      " \n"
     ]
    },
    {
     "name": "stderr",
     "output_type": "stream",
     "text": [
      "C:\\Users\\Suelen Silva\\AppData\\Local\\Temp\\ipykernel_8796\\3663999573.py:5: DeprecationWarning: Conversion of an array with ndim > 0 to a scalar is deprecated, and will error in future. Ensure you extract a single element from your array before performing this operation. (Deprecated NumPy 1.25.)\n",
      "  dicionario['Notas'][int(np.where(mat2)[0])] = 9.5\n"
     ]
    }
   ],
   "source": [
    "#Local da matriz com valor verdadeiro\n",
    "print(np.where(mat2))\n",
    "print(' ')\n",
    "\n",
    "dicionario['Notas'][int(np.where(mat2)[0])] = 9.5\n",
    "\n",
    "#dicionario['Notas'][dicionario['Alunos']=='Lucas'] = 9.5 #se quiser mudar só um número"
   ]
  },
  {
   "cell_type": "code",
   "execution_count": 99,
   "id": "accc8cbf-9915-4a26-9791-797116b85d01",
   "metadata": {},
   "outputs": [
    {
     "name": "stdout",
     "output_type": "stream",
     "text": [
      "[0.65985045 0.96314635 0.56323111 0.13625046 0.50807988 0.48034588\n",
      " 0.05772145 0.12035953 0.23804884 0.05122615 0.12637524 0.38030853\n",
      " 0.20000091 0.50499195 0.13195251 0.5724905  0.53644067 0.87798749\n",
      " 0.80148152 0.11072446 0.68670534 0.25853574 0.37452616 0.70808014\n",
      " 0.63506509 0.89135608 0.01436988 0.69047534 0.59199106 0.95863153\n",
      " 0.69391812 0.24212665 0.5003449  0.3796658  0.08272593 0.52051577\n",
      " 0.52866888 0.99087186 0.71841767 0.36974844 0.6571083  0.33085807\n",
      " 0.29401029 0.97483853 0.8021014  0.20589104 0.70561552 0.5129462\n",
      " 0.25329464 0.12388718 0.01455375 0.4206947  0.5214392  0.65020159\n",
      " 0.21033149 0.5386882  0.31527554 0.45363798 0.02590866 0.30159156\n",
      " 0.78269393 0.12541696 0.63788099 0.76705037 0.99728862 0.0479608\n",
      " 0.32901968 0.27023434 0.02020782 0.36725596 0.27868867 0.9338246\n",
      " 0.68879256 0.91687209 0.55599714 0.16367945 0.37956139 0.61384671\n",
      " 0.94389425 0.19213258 0.26485873 0.73198412 0.45333797 0.28242136\n",
      " 0.24369172 0.58748717 0.02227311 0.91631373 0.29669317 0.44155418\n",
      " 0.89226537 0.59366937 0.03725424 0.85479652 0.63297763 0.94024628\n",
      " 0.53535051 0.1385128  0.07867017 0.03005444]\n",
      " \n",
      "[0.6129987  0.82099201 0.533921   0.13582929 0.48650058 0.46208594\n",
      " 0.05768941 0.12006915 0.23580694 0.05120375 0.12603912 0.37120697\n",
      " 0.19867022 0.4838004  0.13156993 0.54172713 0.51107987 0.76945505\n",
      " 0.71838749 0.11049836 0.63399274 0.25566523 0.36583157 0.65037662\n",
      " 0.59322992 0.77792457 0.01436939 0.63690372 0.55801438 0.81840596\n",
      " 0.63955412 0.23976779 0.47972819 0.37061009 0.08263161 0.49732767\n",
      " 0.5043844  0.83650404 0.65819424 0.36138089 0.61082987 0.32485468\n",
      " 0.28979275 0.82761127 0.71881857 0.20443946 0.64850249 0.4907464\n",
      " 0.25059483 0.12357052 0.01455323 0.40839468 0.49812858 0.60534688\n",
      " 0.2087841  0.51301041 0.31007845 0.43823845 0.02590576 0.29704031\n",
      " 0.70519202 0.12508843 0.59549446 0.69401465 0.84000293 0.04794242\n",
      " 0.32311545 0.26695727 0.02020645 0.35905573 0.27509515 0.80390055\n",
      " 0.63560549 0.79370278 0.52779051 0.16294957 0.37051311 0.57601616\n",
      " 0.80984875 0.19095266 0.26177293 0.66834684 0.43796877 0.2786819\n",
      " 0.24128691 0.55427125 0.02227127 0.793363   0.29235946 0.4273451\n",
      " 0.7784956  0.5594063  0.03724563 0.75443737 0.59154815 0.80770333\n",
      " 0.51014254 0.13807031 0.07858905 0.03004992]\n"
     ]
    }
   ],
   "source": [
    "#Matriz numpy\n",
    "\n",
    "vec = np.random.rand(100)\n",
    "print(vec)\n",
    "print(' ')\n",
    "\n",
    "vec = np.sin(vec) #radianos\n",
    "print(vec)"
   ]
  },
  {
   "cell_type": "code",
   "execution_count": null,
   "id": "60a63087-65d8-4033-802b-eb73fe0dfc45",
   "metadata": {},
   "outputs": [],
   "source": []
  }
 ],
 "metadata": {
  "kernelspec": {
   "display_name": "Python 3 (ipykernel)",
   "language": "python",
   "name": "python3"
  },
  "language_info": {
   "codemirror_mode": {
    "name": "ipython",
    "version": 3
   },
   "file_extension": ".py",
   "mimetype": "text/x-python",
   "name": "python",
   "nbconvert_exporter": "python",
   "pygments_lexer": "ipython3",
   "version": "3.11.8"
  }
 },
 "nbformat": 4,
 "nbformat_minor": 5
}
